{
 "cells": [
  {
   "cell_type": "markdown",
   "id": "547fbccf",
   "metadata": {},
   "source": [
    "## Problem statement:\n",
    "### A significant public health concern is the rising cost of healthcare. Therefore, it's crucial to be able to predict future costs and gain a solid understanding of their causes. "
   ]
  },
  {
   "cell_type": "markdown",
   "id": "6e51a1d8",
   "metadata": {},
   "source": [
    "## Objective:\n",
    "### The objective of this project is to predict patients’ healthcare costs and to identify factors contributing to this prediction. "
   ]
  },
  {
   "cell_type": "code",
   "execution_count": 225,
   "id": "5559d67b",
   "metadata": {},
   "outputs": [],
   "source": [
    "# Data manipulation\n",
    "import numpy as np\n",
    "import pandas as pd\n",
    "\n",
    "# Data visualization\n",
    "import matplotlib.pyplot as plt\n",
    "import seaborn as sns\n",
    "\n",
    "# warnings\n",
    "import warnings\n",
    "warnings.simplefilter('ignore')"
   ]
  },
  {
   "cell_type": "markdown",
   "id": "c458bdbc",
   "metadata": {},
   "source": [
    "## -- Reading data from all the datasets"
   ]
  },
  {
   "cell_type": "code",
   "execution_count": 298,
   "id": "26367308",
   "metadata": {},
   "outputs": [
    {
     "data": {
      "text/html": [
       "<div>\n",
       "<style scoped>\n",
       "    .dataframe tbody tr th:only-of-type {\n",
       "        vertical-align: middle;\n",
       "    }\n",
       "\n",
       "    .dataframe tbody tr th {\n",
       "        vertical-align: top;\n",
       "    }\n",
       "\n",
       "    .dataframe thead th {\n",
       "        text-align: right;\n",
       "    }\n",
       "</style>\n",
       "<table border=\"1\" class=\"dataframe\">\n",
       "  <thead>\n",
       "    <tr style=\"text-align: right;\">\n",
       "      <th></th>\n",
       "      <th>Customer ID</th>\n",
       "      <th>year</th>\n",
       "      <th>month</th>\n",
       "      <th>date</th>\n",
       "      <th>children</th>\n",
       "      <th>charges</th>\n",
       "      <th>Hospital tier</th>\n",
       "      <th>City tier</th>\n",
       "      <th>State ID</th>\n",
       "    </tr>\n",
       "  </thead>\n",
       "  <tbody>\n",
       "    <tr>\n",
       "      <th>0</th>\n",
       "      <td>Id2335</td>\n",
       "      <td>1992</td>\n",
       "      <td>Jul</td>\n",
       "      <td>9</td>\n",
       "      <td>0</td>\n",
       "      <td>563.84</td>\n",
       "      <td>tier - 2</td>\n",
       "      <td>tier - 3</td>\n",
       "      <td>R1013</td>\n",
       "    </tr>\n",
       "    <tr>\n",
       "      <th>1</th>\n",
       "      <td>Id2334</td>\n",
       "      <td>1992</td>\n",
       "      <td>Nov</td>\n",
       "      <td>30</td>\n",
       "      <td>0</td>\n",
       "      <td>570.62</td>\n",
       "      <td>tier - 2</td>\n",
       "      <td>tier - 1</td>\n",
       "      <td>R1013</td>\n",
       "    </tr>\n",
       "  </tbody>\n",
       "</table>\n",
       "</div>"
      ],
      "text/plain": [
       "  Customer ID  year month  date  children  charges Hospital tier City tier  \\\n",
       "0      Id2335  1992   Jul     9         0   563.84      tier - 2  tier - 3   \n",
       "1      Id2334  1992   Nov    30         0   570.62      tier - 2  tier - 1   \n",
       "\n",
       "  State ID  \n",
       "0    R1013  \n",
       "1    R1013  "
      ]
     },
     "execution_count": 298,
     "metadata": {},
     "output_type": "execute_result"
    }
   ],
   "source": [
    "df1=pd.read_csv('Documents/Simplilearn Course/Datasets (1)/Capstone_1/Hospitalisation details.csv')\n",
    "df1.head(2)"
   ]
  },
  {
   "cell_type": "code",
   "execution_count": 299,
   "id": "44bf64e9",
   "metadata": {},
   "outputs": [
    {
     "data": {
      "text/html": [
       "<div>\n",
       "<style scoped>\n",
       "    .dataframe tbody tr th:only-of-type {\n",
       "        vertical-align: middle;\n",
       "    }\n",
       "\n",
       "    .dataframe tbody tr th {\n",
       "        vertical-align: top;\n",
       "    }\n",
       "\n",
       "    .dataframe thead th {\n",
       "        text-align: right;\n",
       "    }\n",
       "</style>\n",
       "<table border=\"1\" class=\"dataframe\">\n",
       "  <thead>\n",
       "    <tr style=\"text-align: right;\">\n",
       "      <th></th>\n",
       "      <th>Customer ID</th>\n",
       "      <th>BMI</th>\n",
       "      <th>HBA1C</th>\n",
       "      <th>Heart Issues</th>\n",
       "      <th>Any Transplants</th>\n",
       "      <th>Cancer history</th>\n",
       "      <th>NumberOfMajorSurgeries</th>\n",
       "      <th>smoker</th>\n",
       "    </tr>\n",
       "  </thead>\n",
       "  <tbody>\n",
       "    <tr>\n",
       "      <th>0</th>\n",
       "      <td>Id1</td>\n",
       "      <td>47.41</td>\n",
       "      <td>7.47</td>\n",
       "      <td>No</td>\n",
       "      <td>No</td>\n",
       "      <td>No</td>\n",
       "      <td>No major surgery</td>\n",
       "      <td>yes</td>\n",
       "    </tr>\n",
       "    <tr>\n",
       "      <th>1</th>\n",
       "      <td>Id2</td>\n",
       "      <td>30.36</td>\n",
       "      <td>5.77</td>\n",
       "      <td>No</td>\n",
       "      <td>No</td>\n",
       "      <td>No</td>\n",
       "      <td>No major surgery</td>\n",
       "      <td>yes</td>\n",
       "    </tr>\n",
       "  </tbody>\n",
       "</table>\n",
       "</div>"
      ],
      "text/plain": [
       "  Customer ID    BMI  HBA1C Heart Issues Any Transplants Cancer history  \\\n",
       "0         Id1  47.41   7.47           No              No             No   \n",
       "1         Id2  30.36   5.77           No              No             No   \n",
       "\n",
       "  NumberOfMajorSurgeries smoker  \n",
       "0       No major surgery    yes  \n",
       "1       No major surgery    yes  "
      ]
     },
     "execution_count": 299,
     "metadata": {},
     "output_type": "execute_result"
    }
   ],
   "source": [
    "df2=pd.read_csv('Documents/Simplilearn Course/Datasets (1)/Capstone_1/Medical Examinations.csv')\n",
    "df2.head(2)"
   ]
  },
  {
   "cell_type": "code",
   "execution_count": 300,
   "id": "7aa682ae",
   "metadata": {},
   "outputs": [
    {
     "data": {
      "text/html": [
       "<div>\n",
       "<style scoped>\n",
       "    .dataframe tbody tr th:only-of-type {\n",
       "        vertical-align: middle;\n",
       "    }\n",
       "\n",
       "    .dataframe tbody tr th {\n",
       "        vertical-align: top;\n",
       "    }\n",
       "\n",
       "    .dataframe thead th {\n",
       "        text-align: right;\n",
       "    }\n",
       "</style>\n",
       "<table border=\"1\" class=\"dataframe\">\n",
       "  <thead>\n",
       "    <tr style=\"text-align: right;\">\n",
       "      <th></th>\n",
       "      <th>Customer ID</th>\n",
       "      <th>name</th>\n",
       "    </tr>\n",
       "  </thead>\n",
       "  <tbody>\n",
       "    <tr>\n",
       "      <th>0</th>\n",
       "      <td>Id1</td>\n",
       "      <td>Hawks, Ms.  Kelly</td>\n",
       "    </tr>\n",
       "    <tr>\n",
       "      <th>1</th>\n",
       "      <td>Id2</td>\n",
       "      <td>Lehner, Mr.  Matthew D</td>\n",
       "    </tr>\n",
       "  </tbody>\n",
       "</table>\n",
       "</div>"
      ],
      "text/plain": [
       "  Customer ID                    name\n",
       "0         Id1       Hawks, Ms.  Kelly\n",
       "1         Id2  Lehner, Mr.  Matthew D"
      ]
     },
     "execution_count": 300,
     "metadata": {},
     "output_type": "execute_result"
    }
   ],
   "source": [
    "df3=pd.read_excel('Documents/Simplilearn Course/Datasets (1)/Capstone_1/Names.xlsx')\n",
    "df3.head(2)"
   ]
  },
  {
   "cell_type": "code",
   "execution_count": 301,
   "id": "2dab783f",
   "metadata": {},
   "outputs": [
    {
     "name": "stdout",
     "output_type": "stream",
     "text": [
      "(2343, 9)\n",
      "(2335, 8)\n",
      "(2335, 2)\n"
     ]
    }
   ],
   "source": [
    "print(df1.shape)\n",
    "print(df2.shape)\n",
    "print(df3.shape)"
   ]
  },
  {
   "cell_type": "code",
   "execution_count": 302,
   "id": "c67cb4f1",
   "metadata": {},
   "outputs": [
    {
     "data": {
      "text/plain": [
       "0"
      ]
     },
     "execution_count": 302,
     "metadata": {},
     "output_type": "execute_result"
    }
   ],
   "source": [
    "df1.duplicated().sum()"
   ]
  },
  {
   "cell_type": "markdown",
   "id": "2959e2b5",
   "metadata": {},
   "source": [
    "## --Combining all the files using merge, so that all the information is in one place. key column is to be join is Customer ID."
   ]
  },
  {
   "cell_type": "code",
   "execution_count": 303,
   "id": "ef3c06f0",
   "metadata": {},
   "outputs": [
    {
     "data": {
      "text/html": [
       "<div>\n",
       "<style scoped>\n",
       "    .dataframe tbody tr th:only-of-type {\n",
       "        vertical-align: middle;\n",
       "    }\n",
       "\n",
       "    .dataframe tbody tr th {\n",
       "        vertical-align: top;\n",
       "    }\n",
       "\n",
       "    .dataframe thead th {\n",
       "        text-align: right;\n",
       "    }\n",
       "</style>\n",
       "<table border=\"1\" class=\"dataframe\">\n",
       "  <thead>\n",
       "    <tr style=\"text-align: right;\">\n",
       "      <th></th>\n",
       "      <th>Customer ID</th>\n",
       "      <th>year</th>\n",
       "      <th>month</th>\n",
       "      <th>date</th>\n",
       "      <th>children</th>\n",
       "      <th>charges</th>\n",
       "      <th>Hospital tier</th>\n",
       "      <th>City tier</th>\n",
       "      <th>State ID</th>\n",
       "      <th>BMI</th>\n",
       "      <th>HBA1C</th>\n",
       "      <th>Heart Issues</th>\n",
       "      <th>Any Transplants</th>\n",
       "      <th>Cancer history</th>\n",
       "      <th>NumberOfMajorSurgeries</th>\n",
       "      <th>smoker</th>\n",
       "      <th>name</th>\n",
       "    </tr>\n",
       "  </thead>\n",
       "  <tbody>\n",
       "    <tr>\n",
       "      <th>0</th>\n",
       "      <td>Id2335</td>\n",
       "      <td>1992</td>\n",
       "      <td>Jul</td>\n",
       "      <td>9</td>\n",
       "      <td>0</td>\n",
       "      <td>563.84</td>\n",
       "      <td>tier - 2</td>\n",
       "      <td>tier - 3</td>\n",
       "      <td>R1013</td>\n",
       "      <td>17.58</td>\n",
       "      <td>4.51</td>\n",
       "      <td>No</td>\n",
       "      <td>No</td>\n",
       "      <td>No</td>\n",
       "      <td>1</td>\n",
       "      <td>No</td>\n",
       "      <td>German, Mr.  Aaron K</td>\n",
       "    </tr>\n",
       "    <tr>\n",
       "      <th>1</th>\n",
       "      <td>Id2334</td>\n",
       "      <td>1992</td>\n",
       "      <td>Nov</td>\n",
       "      <td>30</td>\n",
       "      <td>0</td>\n",
       "      <td>570.62</td>\n",
       "      <td>tier - 2</td>\n",
       "      <td>tier - 1</td>\n",
       "      <td>R1013</td>\n",
       "      <td>17.60</td>\n",
       "      <td>4.39</td>\n",
       "      <td>No</td>\n",
       "      <td>No</td>\n",
       "      <td>No</td>\n",
       "      <td>1</td>\n",
       "      <td>No</td>\n",
       "      <td>Rosendahl, Mr.  Evan P</td>\n",
       "    </tr>\n",
       "  </tbody>\n",
       "</table>\n",
       "</div>"
      ],
      "text/plain": [
       "  Customer ID  year month  date  children  charges Hospital tier City tier  \\\n",
       "0      Id2335  1992   Jul     9         0   563.84      tier - 2  tier - 3   \n",
       "1      Id2334  1992   Nov    30         0   570.62      tier - 2  tier - 1   \n",
       "\n",
       "  State ID    BMI  HBA1C Heart Issues Any Transplants Cancer history  \\\n",
       "0    R1013  17.58   4.51           No              No             No   \n",
       "1    R1013  17.60   4.39           No              No             No   \n",
       "\n",
       "  NumberOfMajorSurgeries smoker                    name  \n",
       "0                      1     No    German, Mr.  Aaron K  \n",
       "1                      1     No  Rosendahl, Mr.  Evan P  "
      ]
     },
     "execution_count": 303,
     "metadata": {},
     "output_type": "execute_result"
    }
   ],
   "source": [
    "# Merge Dataframes on Customer ID coloumn\n",
    "merged_df=pd.merge(df1,df2,on='Customer ID',how='outer')\n",
    "merged_df=pd.merge(merged_df,df3,on='Customer ID',how='outer')\n",
    "merged_df.head(2)"
   ]
  },
  {
   "cell_type": "code",
   "execution_count": 304,
   "id": "b528ec93",
   "metadata": {},
   "outputs": [
    {
     "data": {
      "text/plain": [
       "(2343, 17)"
      ]
     },
     "execution_count": 304,
     "metadata": {},
     "output_type": "execute_result"
    }
   ],
   "source": [
    "merged_df.shape"
   ]
  },
  {
   "cell_type": "code",
   "execution_count": 305,
   "id": "83b340f7",
   "metadata": {},
   "outputs": [
    {
     "data": {
      "text/plain": [
       "Customer ID               2338\n",
       "year                        48\n",
       "month                        8\n",
       "date                        30\n",
       "children                     6\n",
       "charges                   2333\n",
       "Hospital tier                4\n",
       "City tier                    4\n",
       "State ID                    17\n",
       "BMI                       1335\n",
       "HBA1C                      667\n",
       "Heart Issues                 2\n",
       "Any Transplants              2\n",
       "Cancer history               2\n",
       "NumberOfMajorSurgeries       4\n",
       "smoker                       3\n",
       "name                      2335\n",
       "dtype: int64"
      ]
     },
     "execution_count": 305,
     "metadata": {},
     "output_type": "execute_result"
    }
   ],
   "source": [
    "merged_df.nunique()"
   ]
  },
  {
   "cell_type": "code",
   "execution_count": 306,
   "id": "45e40278",
   "metadata": {},
   "outputs": [],
   "source": [
    "merged_df.drop_duplicates(inplace=True)"
   ]
  },
  {
   "cell_type": "code",
   "execution_count": 307,
   "id": "237ef5e2",
   "metadata": {},
   "outputs": [
    {
     "data": {
      "text/plain": [
       "(2343, 17)"
      ]
     },
     "execution_count": 307,
     "metadata": {},
     "output_type": "execute_result"
    }
   ],
   "source": [
    "merged_df.shape"
   ]
  },
  {
   "cell_type": "markdown",
   "id": "324040b2",
   "metadata": {},
   "source": [
    "## -- Finding the percentage of rows that have trivial value (for example, ?), and delete such rows if they do not contain significant information"
   ]
  },
  {
   "cell_type": "code",
   "execution_count": 308,
   "id": "5e38c54c",
   "metadata": {},
   "outputs": [],
   "source": [
    "# Replace '?' with NaN\n",
    "merged_df.replace('?',pd.NA,inplace=True)\n",
    "\n",
    "# Create a boolean mask for trivial values\n",
    "trivial_mask=merged_df.applymap(lambda x:x=='?')"
   ]
  },
  {
   "cell_type": "code",
   "execution_count": 309,
   "id": "2d8348b0",
   "metadata": {},
   "outputs": [
    {
     "data": {
      "text/html": [
       "<div>\n",
       "<style scoped>\n",
       "    .dataframe tbody tr th:only-of-type {\n",
       "        vertical-align: middle;\n",
       "    }\n",
       "\n",
       "    .dataframe tbody tr th {\n",
       "        vertical-align: top;\n",
       "    }\n",
       "\n",
       "    .dataframe thead th {\n",
       "        text-align: right;\n",
       "    }\n",
       "</style>\n",
       "<table border=\"1\" class=\"dataframe\">\n",
       "  <thead>\n",
       "    <tr style=\"text-align: right;\">\n",
       "      <th></th>\n",
       "      <th>Customer ID</th>\n",
       "      <th>year</th>\n",
       "      <th>month</th>\n",
       "      <th>date</th>\n",
       "      <th>children</th>\n",
       "      <th>charges</th>\n",
       "      <th>Hospital tier</th>\n",
       "      <th>City tier</th>\n",
       "      <th>State ID</th>\n",
       "      <th>BMI</th>\n",
       "      <th>HBA1C</th>\n",
       "      <th>Heart Issues</th>\n",
       "      <th>Any Transplants</th>\n",
       "      <th>Cancer history</th>\n",
       "      <th>NumberOfMajorSurgeries</th>\n",
       "      <th>smoker</th>\n",
       "      <th>name</th>\n",
       "    </tr>\n",
       "  </thead>\n",
       "  <tbody>\n",
       "    <tr>\n",
       "      <th>0</th>\n",
       "      <td>False</td>\n",
       "      <td>False</td>\n",
       "      <td>False</td>\n",
       "      <td>False</td>\n",
       "      <td>False</td>\n",
       "      <td>False</td>\n",
       "      <td>False</td>\n",
       "      <td>False</td>\n",
       "      <td>False</td>\n",
       "      <td>False</td>\n",
       "      <td>False</td>\n",
       "      <td>False</td>\n",
       "      <td>False</td>\n",
       "      <td>False</td>\n",
       "      <td>False</td>\n",
       "      <td>False</td>\n",
       "      <td>False</td>\n",
       "    </tr>\n",
       "    <tr>\n",
       "      <th>1</th>\n",
       "      <td>False</td>\n",
       "      <td>False</td>\n",
       "      <td>False</td>\n",
       "      <td>False</td>\n",
       "      <td>False</td>\n",
       "      <td>False</td>\n",
       "      <td>False</td>\n",
       "      <td>False</td>\n",
       "      <td>False</td>\n",
       "      <td>False</td>\n",
       "      <td>False</td>\n",
       "      <td>False</td>\n",
       "      <td>False</td>\n",
       "      <td>False</td>\n",
       "      <td>False</td>\n",
       "      <td>False</td>\n",
       "      <td>False</td>\n",
       "    </tr>\n",
       "  </tbody>\n",
       "</table>\n",
       "</div>"
      ],
      "text/plain": [
       "  Customer ID   year  month   date  children  charges Hospital tier City tier  \\\n",
       "0       False  False  False  False     False    False         False     False   \n",
       "1       False  False  False  False     False    False         False     False   \n",
       "\n",
       "  State ID    BMI  HBA1C  Heart Issues  Any Transplants  Cancer history  \\\n",
       "0    False  False  False         False            False           False   \n",
       "1    False  False  False         False            False           False   \n",
       "\n",
       "   NumberOfMajorSurgeries smoker   name  \n",
       "0                   False  False  False  \n",
       "1                   False  False  False  "
      ]
     },
     "execution_count": 309,
     "metadata": {},
     "output_type": "execute_result"
    }
   ],
   "source": [
    "trivial_mask.head(2)"
   ]
  },
  {
   "cell_type": "code",
   "execution_count": 310,
   "id": "5e78db68",
   "metadata": {},
   "outputs": [
    {
     "data": {
      "text/plain": [
       "0"
      ]
     },
     "execution_count": 310,
     "metadata": {},
     "output_type": "execute_result"
    }
   ],
   "source": [
    "# Count the number of rows for trivial value\n",
    "trivial_rows_count=trivial_mask.any(axis=1).sum()\n",
    "trivial_rows_count"
   ]
  },
  {
   "cell_type": "code",
   "execution_count": 311,
   "id": "235925fc",
   "metadata": {},
   "outputs": [
    {
     "name": "stdout",
     "output_type": "stream",
     "text": [
      "percentage of rows with trivial values: 0.00%\n"
     ]
    }
   ],
   "source": [
    "percentage_trivial_rows=(trivial_rows_count/len(merged_df))*100\n",
    "print(f'percentage of rows with trivial values: {percentage_trivial_rows:.2f}%')"
   ]
  },
  {
   "cell_type": "markdown",
   "id": "3e006099",
   "metadata": {},
   "source": [
    "#### ** Above we replaced  '?' with pd.NaN and created boolean mask for trivial values,  and lastly found percentage of the rows with trivial values "
   ]
  },
  {
   "cell_type": "markdown",
   "id": "a89eb041",
   "metadata": {},
   "source": [
    "## -- Checking for missing values in the dataset"
   ]
  },
  {
   "cell_type": "code",
   "execution_count": 312,
   "id": "9cfddbbf",
   "metadata": {},
   "outputs": [
    {
     "data": {
      "text/plain": [
       "Customer ID                6\n",
       "year                       2\n",
       "month                      3\n",
       "date                       0\n",
       "children                   0\n",
       "charges                    0\n",
       "Hospital tier              1\n",
       "City tier                  1\n",
       "State ID                   2\n",
       "BMI                        8\n",
       "HBA1C                      8\n",
       "Heart Issues               8\n",
       "Any Transplants            8\n",
       "Cancer history             8\n",
       "NumberOfMajorSurgeries     8\n",
       "smoker                    10\n",
       "name                       8\n",
       "dtype: int64"
      ]
     },
     "execution_count": 312,
     "metadata": {},
     "output_type": "execute_result"
    }
   ],
   "source": [
    "merged_df.isnull().sum()"
   ]
  },
  {
   "cell_type": "markdown",
   "id": "358e4c8c",
   "metadata": {},
   "source": [
    "#### **There are missing values in data we have to treat this missing values"
   ]
  },
  {
   "cell_type": "code",
   "execution_count": 313,
   "id": "d8ae7a2c",
   "metadata": {},
   "outputs": [],
   "source": [
    "merged_df.dropna(subset=['Customer ID','year','month','Hospital tier','City tier','State ID','BMI','HBA1C','Heart Issues',\n",
    "                         'Any Transplants','Cancer history','NumberOfMajorSurgeries','smoker','name'],inplace=True)"
   ]
  },
  {
   "cell_type": "code",
   "execution_count": 314,
   "id": "25daedb4",
   "metadata": {},
   "outputs": [
    {
     "data": {
      "text/plain": [
       "Customer ID               0\n",
       "year                      0\n",
       "month                     0\n",
       "date                      0\n",
       "children                  0\n",
       "charges                   0\n",
       "Hospital tier             0\n",
       "City tier                 0\n",
       "State ID                  0\n",
       "BMI                       0\n",
       "HBA1C                     0\n",
       "Heart Issues              0\n",
       "Any Transplants           0\n",
       "Cancer history            0\n",
       "NumberOfMajorSurgeries    0\n",
       "smoker                    0\n",
       "name                      0\n",
       "dtype: int64"
      ]
     },
     "execution_count": 314,
     "metadata": {},
     "output_type": "execute_result"
    }
   ],
   "source": [
    "merged_df.isnull().sum()"
   ]
  },
  {
   "cell_type": "code",
   "execution_count": 315,
   "id": "e540ac8f",
   "metadata": {},
   "outputs": [
    {
     "data": {
      "text/plain": [
       "(2325, 17)"
      ]
     },
     "execution_count": 315,
     "metadata": {},
     "output_type": "execute_result"
    }
   ],
   "source": [
    "merged_df.shape"
   ]
  },
  {
   "cell_type": "markdown",
   "id": "c25575ad",
   "metadata": {},
   "source": [
    "#### **Now no null values in dataset we treat it by deleting rows which have null values....The other way to teat null values is by replacing with median and mode, but here we don't have huge amount of null values in each column so we dropped the rows which contains null value. "
   ]
  },
  {
   "cell_type": "markdown",
   "id": "81f461f5",
   "metadata": {},
   "source": [
    "## -- The dataset has State ID, which has around 16 states. All states are not represented in equal proportions in the data. Creating dummy variables for all regions may also result in too many insignificant predictors. Nevertheless, only R1011, R1012, and R1013 are worth investigating further. Creating a suitable strategy to create dummy variables with these restraints."
   ]
  },
  {
   "cell_type": "code",
   "execution_count": 316,
   "id": "43f863d0",
   "metadata": {},
   "outputs": [
    {
     "data": {
      "text/plain": [
       "R1013    609\n",
       "R1011    574\n",
       "R1012    572\n",
       "R1024    159\n",
       "R1026     84\n",
       "R1021     70\n",
       "R1016     64\n",
       "R1025     40\n",
       "R1023     38\n",
       "R1017     36\n",
       "R1019     26\n",
       "R1022     14\n",
       "R1014     13\n",
       "R1015     11\n",
       "R1018      9\n",
       "R1020      6\n",
       "Name: State ID, dtype: int64"
      ]
     },
     "execution_count": 316,
     "metadata": {},
     "output_type": "execute_result"
    }
   ],
   "source": [
    "merged_df['State ID'].value_counts()"
   ]
  },
  {
   "cell_type": "code",
   "execution_count": 317,
   "id": "eae56f48",
   "metadata": {},
   "outputs": [
    {
     "data": {
      "text/plain": [
       "16"
      ]
     },
     "execution_count": 317,
     "metadata": {},
     "output_type": "execute_result"
    }
   ],
   "source": [
    "merged_df['State ID'].nunique()"
   ]
  },
  {
   "cell_type": "code",
   "execution_count": 318,
   "id": "01618752",
   "metadata": {},
   "outputs": [],
   "source": [
    "merged_df.replace(['R1024','R1026','R1021','R1016','R1025','R1023','R1017','R1019','R1022','R1014','R1015','R1018','R1020'],\n",
    "                  'others',inplace=True)"
   ]
  },
  {
   "cell_type": "code",
   "execution_count": 319,
   "id": "97854448",
   "metadata": {},
   "outputs": [
    {
     "data": {
      "text/plain": [
       "R1013     609\n",
       "R1011     574\n",
       "R1012     572\n",
       "others    570\n",
       "Name: State ID, dtype: int64"
      ]
     },
     "execution_count": 319,
     "metadata": {},
     "output_type": "execute_result"
    }
   ],
   "source": [
    "merged_df['State ID'].value_counts()"
   ]
  },
  {
   "cell_type": "code",
   "execution_count": 320,
   "id": "125dfec6",
   "metadata": {},
   "outputs": [],
   "source": [
    "merged_df.replace('R1011',0,inplace=True)\n",
    "merged_df.replace('R1012',1,inplace=True)\n",
    "merged_df.replace('R1013',2,inplace=True)\n",
    "merged_df.replace('others',3,inplace=True)"
   ]
  },
  {
   "cell_type": "markdown",
   "id": "4b364aca",
   "metadata": {},
   "source": [
    "#### **Except R1013,R1012,R1011 state ID's we combined all other state ID's and put them in one ID named as 'other'.\n",
    "#### **filtered all the state id a part from 3 having maximum occurences and put in under new state_id name  as 'other', now there are 4 unique state id's.\n",
    "#### **and replaced R1011 with 0, R1012 with 1, R1013 with 2 and others with 3."
   ]
  },
  {
   "cell_type": "markdown",
   "id": "d4e66a59",
   "metadata": {},
   "source": [
    "## --- The variable NumberOfMajorSurgeries also appears to have string values. Apply a suitable method to clean up this variable."
   ]
  },
  {
   "cell_type": "code",
   "execution_count": 321,
   "id": "05fe9736",
   "metadata": {},
   "outputs": [
    {
     "data": {
      "text/plain": [
       "array(['1', 'No major surgery', '2', '3'], dtype=object)"
      ]
     },
     "execution_count": 321,
     "metadata": {},
     "output_type": "execute_result"
    }
   ],
   "source": [
    "merged_df['NumberOfMajorSurgeries'].unique()"
   ]
  },
  {
   "cell_type": "code",
   "execution_count": 322,
   "id": "fd6a2535",
   "metadata": {},
   "outputs": [],
   "source": [
    "merged_df.replace(['No major surgery'],0,inplace=True)"
   ]
  },
  {
   "cell_type": "code",
   "execution_count": 323,
   "id": "747de576",
   "metadata": {},
   "outputs": [],
   "source": [
    "merged_df['NumberOfMajorSurgeries']=merged_df['NumberOfMajorSurgeries'].astype('int64')"
   ]
  },
  {
   "cell_type": "code",
   "execution_count": 324,
   "id": "ac3bb8d9",
   "metadata": {},
   "outputs": [
    {
     "data": {
      "text/plain": [
       "array([1, 0, 2, 3], dtype=int64)"
      ]
     },
     "execution_count": 324,
     "metadata": {},
     "output_type": "execute_result"
    }
   ],
   "source": [
    "merged_df['NumberOfMajorSurgeries'].unique()"
   ]
  },
  {
   "cell_type": "markdown",
   "id": "ca9a3cb9",
   "metadata": {},
   "source": [
    "#### **Above we replaced the value 'No major surgery' with 0.\n",
    "#### **And the column 'NumberOfMajorSurgeries' is object datatype, so converted this column into int64 by using astype(int64)."
   ]
  },
  {
   "cell_type": "markdown",
   "id": "df8cf739",
   "metadata": {},
   "source": [
    "## -- Shows the HBA1C report (HBA1C measures the amount of sugar in the blood (glucose), where HBA1C greater than 6.5 is considered diabetic assuming as 1 and less than 6.5 is considered as non-diabetic assuming as 0"
   ]
  },
  {
   "cell_type": "code",
   "execution_count": 325,
   "id": "9f4c1058",
   "metadata": {},
   "outputs": [
    {
     "data": {
      "text/html": [
       "<div>\n",
       "<style scoped>\n",
       "    .dataframe tbody tr th:only-of-type {\n",
       "        vertical-align: middle;\n",
       "    }\n",
       "\n",
       "    .dataframe tbody tr th {\n",
       "        vertical-align: top;\n",
       "    }\n",
       "\n",
       "    .dataframe thead th {\n",
       "        text-align: right;\n",
       "    }\n",
       "</style>\n",
       "<table border=\"1\" class=\"dataframe\">\n",
       "  <thead>\n",
       "    <tr style=\"text-align: right;\">\n",
       "      <th></th>\n",
       "      <th>Customer ID</th>\n",
       "      <th>year</th>\n",
       "      <th>month</th>\n",
       "      <th>date</th>\n",
       "      <th>children</th>\n",
       "      <th>charges</th>\n",
       "      <th>Hospital tier</th>\n",
       "      <th>City tier</th>\n",
       "      <th>State ID</th>\n",
       "      <th>BMI</th>\n",
       "      <th>Diabetic</th>\n",
       "      <th>Heart Issues</th>\n",
       "      <th>Any Transplants</th>\n",
       "      <th>Cancer history</th>\n",
       "      <th>NumberOfMajorSurgeries</th>\n",
       "      <th>smoker</th>\n",
       "      <th>name</th>\n",
       "    </tr>\n",
       "  </thead>\n",
       "  <tbody>\n",
       "    <tr>\n",
       "      <th>0</th>\n",
       "      <td>Id2335</td>\n",
       "      <td>1992</td>\n",
       "      <td>Jul</td>\n",
       "      <td>9</td>\n",
       "      <td>0</td>\n",
       "      <td>563.84</td>\n",
       "      <td>tier - 2</td>\n",
       "      <td>tier - 3</td>\n",
       "      <td>2</td>\n",
       "      <td>17.58</td>\n",
       "      <td>0</td>\n",
       "      <td>No</td>\n",
       "      <td>No</td>\n",
       "      <td>No</td>\n",
       "      <td>1</td>\n",
       "      <td>No</td>\n",
       "      <td>German, Mr.  Aaron K</td>\n",
       "    </tr>\n",
       "    <tr>\n",
       "      <th>1</th>\n",
       "      <td>Id2334</td>\n",
       "      <td>1992</td>\n",
       "      <td>Nov</td>\n",
       "      <td>30</td>\n",
       "      <td>0</td>\n",
       "      <td>570.62</td>\n",
       "      <td>tier - 2</td>\n",
       "      <td>tier - 1</td>\n",
       "      <td>2</td>\n",
       "      <td>17.60</td>\n",
       "      <td>0</td>\n",
       "      <td>No</td>\n",
       "      <td>No</td>\n",
       "      <td>No</td>\n",
       "      <td>1</td>\n",
       "      <td>No</td>\n",
       "      <td>Rosendahl, Mr.  Evan P</td>\n",
       "    </tr>\n",
       "  </tbody>\n",
       "</table>\n",
       "</div>"
      ],
      "text/plain": [
       "  Customer ID  year month  date  children  charges Hospital tier City tier  \\\n",
       "0      Id2335  1992   Jul     9         0   563.84      tier - 2  tier - 3   \n",
       "1      Id2334  1992   Nov    30         0   570.62      tier - 2  tier - 1   \n",
       "\n",
       "   State ID    BMI  Diabetic Heart Issues Any Transplants Cancer history  \\\n",
       "0         2  17.58         0           No              No             No   \n",
       "1         2  17.60         0           No              No             No   \n",
       "\n",
       "   NumberOfMajorSurgeries smoker                    name  \n",
       "0                       1     No    German, Mr.  Aaron K  \n",
       "1                       1     No  Rosendahl, Mr.  Evan P  "
      ]
     },
     "execution_count": 325,
     "metadata": {},
     "output_type": "execute_result"
    }
   ],
   "source": [
    "merged_df[\"HBA1C\"] = np.where(merged_df[\"HBA1C\"] > 6.5, 1.0, 0)\n",
    "merged_df[\"HBA1C\"]=merged_df[\"HBA1C\"].astype('int64')\n",
    "merged_df.rename(columns = {'HBA1C':'Diabetic'}, inplace = True) \n",
    "merged_df.head(2)"
   ]
  },
  {
   "cell_type": "markdown",
   "id": "b5febb90",
   "metadata": {},
   "source": [
    "#### **Above  HBA1C column values changed with 1(diabetic) if HBA1C is greater than 6.5 and with 0(non-diabetic) if HBA1C is less than 6.5."
   ]
  },
  {
   "cell_type": "markdown",
   "id": "1dc514c1",
   "metadata": {},
   "source": [
    "## -- Age appears to be a significant factor in this analysis. Calculate the patients' ages based on their dates of birth"
   ]
  },
  {
   "cell_type": "markdown",
   "id": "af578306",
   "metadata": {},
   "source": [
    "#### ** year,month and date columns are object datatype converting them into datetime datatype"
   ]
  },
  {
   "cell_type": "code",
   "execution_count": 326,
   "id": "bb2d6824",
   "metadata": {},
   "outputs": [],
   "source": [
    "merged_df['year']=pd.to_datetime(merged_df['year'])\n",
    "merged_df['month']=pd.to_datetime(merged_df['month'],format='%b')\n",
    "merged_df['date']=pd.to_datetime(merged_df['date'],format='%d',errors='coerce')"
   ]
  },
  {
   "cell_type": "code",
   "execution_count": 327,
   "id": "f59908d9",
   "metadata": {},
   "outputs": [
    {
     "data": {
      "text/plain": [
       "Customer ID                       object\n",
       "year                      datetime64[ns]\n",
       "month                     datetime64[ns]\n",
       "date                      datetime64[ns]\n",
       "children                           int64\n",
       "charges                          float64\n",
       "Hospital tier                     object\n",
       "City tier                         object\n",
       "State ID                           int64\n",
       "BMI                              float64\n",
       "Diabetic                           int64\n",
       "Heart Issues                      object\n",
       "Any Transplants                   object\n",
       "Cancer history                    object\n",
       "NumberOfMajorSurgeries             int64\n",
       "smoker                            object\n",
       "name                              object\n",
       "dtype: object"
      ]
     },
     "execution_count": 327,
     "metadata": {},
     "output_type": "execute_result"
    }
   ],
   "source": [
    "merged_df.dtypes"
   ]
  },
  {
   "cell_type": "code",
   "execution_count": 328,
   "id": "41c931b2",
   "metadata": {
    "scrolled": true
   },
   "outputs": [
    {
     "data": {
      "text/html": [
       "<div>\n",
       "<style scoped>\n",
       "    .dataframe tbody tr th:only-of-type {\n",
       "        vertical-align: middle;\n",
       "    }\n",
       "\n",
       "    .dataframe tbody tr th {\n",
       "        vertical-align: top;\n",
       "    }\n",
       "\n",
       "    .dataframe thead th {\n",
       "        text-align: right;\n",
       "    }\n",
       "</style>\n",
       "<table border=\"1\" class=\"dataframe\">\n",
       "  <thead>\n",
       "    <tr style=\"text-align: right;\">\n",
       "      <th></th>\n",
       "      <th>Customer ID</th>\n",
       "      <th>year</th>\n",
       "      <th>month</th>\n",
       "      <th>date</th>\n",
       "      <th>children</th>\n",
       "      <th>charges</th>\n",
       "      <th>Hospital tier</th>\n",
       "      <th>City tier</th>\n",
       "      <th>State ID</th>\n",
       "      <th>BMI</th>\n",
       "      <th>Diabetic</th>\n",
       "      <th>Heart Issues</th>\n",
       "      <th>Any Transplants</th>\n",
       "      <th>Cancer history</th>\n",
       "      <th>NumberOfMajorSurgeries</th>\n",
       "      <th>smoker</th>\n",
       "      <th>name</th>\n",
       "    </tr>\n",
       "  </thead>\n",
       "  <tbody>\n",
       "    <tr>\n",
       "      <th>0</th>\n",
       "      <td>Id2335</td>\n",
       "      <td>1992-01-01</td>\n",
       "      <td>1900-07-01</td>\n",
       "      <td>1900-01-09</td>\n",
       "      <td>0</td>\n",
       "      <td>563.84</td>\n",
       "      <td>tier - 2</td>\n",
       "      <td>tier - 3</td>\n",
       "      <td>2</td>\n",
       "      <td>17.58</td>\n",
       "      <td>0</td>\n",
       "      <td>No</td>\n",
       "      <td>No</td>\n",
       "      <td>No</td>\n",
       "      <td>1</td>\n",
       "      <td>No</td>\n",
       "      <td>German, Mr.  Aaron K</td>\n",
       "    </tr>\n",
       "    <tr>\n",
       "      <th>1</th>\n",
       "      <td>Id2334</td>\n",
       "      <td>1992-01-01</td>\n",
       "      <td>1900-11-01</td>\n",
       "      <td>1900-01-30</td>\n",
       "      <td>0</td>\n",
       "      <td>570.62</td>\n",
       "      <td>tier - 2</td>\n",
       "      <td>tier - 1</td>\n",
       "      <td>2</td>\n",
       "      <td>17.60</td>\n",
       "      <td>0</td>\n",
       "      <td>No</td>\n",
       "      <td>No</td>\n",
       "      <td>No</td>\n",
       "      <td>1</td>\n",
       "      <td>No</td>\n",
       "      <td>Rosendahl, Mr.  Evan P</td>\n",
       "    </tr>\n",
       "  </tbody>\n",
       "</table>\n",
       "</div>"
      ],
      "text/plain": [
       "  Customer ID       year      month       date  children  charges  \\\n",
       "0      Id2335 1992-01-01 1900-07-01 1900-01-09         0   563.84   \n",
       "1      Id2334 1992-01-01 1900-11-01 1900-01-30         0   570.62   \n",
       "\n",
       "  Hospital tier City tier  State ID    BMI  Diabetic Heart Issues  \\\n",
       "0      tier - 2  tier - 3         2  17.58         0           No   \n",
       "1      tier - 2  tier - 1         2  17.60         0           No   \n",
       "\n",
       "  Any Transplants Cancer history  NumberOfMajorSurgeries smoker  \\\n",
       "0              No             No                       1     No   \n",
       "1              No             No                       1     No   \n",
       "\n",
       "                     name  \n",
       "0    German, Mr.  Aaron K  \n",
       "1  Rosendahl, Mr.  Evan P  "
      ]
     },
     "execution_count": 328,
     "metadata": {},
     "output_type": "execute_result"
    }
   ],
   "source": [
    "merged_df.head(2)"
   ]
  },
  {
   "cell_type": "markdown",
   "id": "b9abdf1d",
   "metadata": {},
   "source": [
    "#### **ofter converting, extract particular year,month and day from those columns and assign them into new columns respectively"
   ]
  },
  {
   "cell_type": "code",
   "execution_count": 329,
   "id": "0406a450",
   "metadata": {},
   "outputs": [],
   "source": [
    "from datetime import date"
   ]
  },
  {
   "cell_type": "code",
   "execution_count": 330,
   "id": "a9cbc579",
   "metadata": {},
   "outputs": [],
   "source": [
    "merged_df['Year']=merged_df['year'].apply(lambda x:int(x.year))"
   ]
  },
  {
   "cell_type": "code",
   "execution_count": 331,
   "id": "85ddd4c0",
   "metadata": {},
   "outputs": [],
   "source": [
    "merged_df['Month']=merged_df['month'].apply(lambda x:int(x.month))"
   ]
  },
  {
   "cell_type": "code",
   "execution_count": 332,
   "id": "8996c3b9",
   "metadata": {},
   "outputs": [],
   "source": [
    "merged_df['Date']=merged_df['date'].apply(lambda x:int(x.day))"
   ]
  },
  {
   "cell_type": "code",
   "execution_count": 333,
   "id": "ace41473",
   "metadata": {},
   "outputs": [
    {
     "data": {
      "text/html": [
       "<div>\n",
       "<style scoped>\n",
       "    .dataframe tbody tr th:only-of-type {\n",
       "        vertical-align: middle;\n",
       "    }\n",
       "\n",
       "    .dataframe tbody tr th {\n",
       "        vertical-align: top;\n",
       "    }\n",
       "\n",
       "    .dataframe thead th {\n",
       "        text-align: right;\n",
       "    }\n",
       "</style>\n",
       "<table border=\"1\" class=\"dataframe\">\n",
       "  <thead>\n",
       "    <tr style=\"text-align: right;\">\n",
       "      <th></th>\n",
       "      <th>Customer ID</th>\n",
       "      <th>year</th>\n",
       "      <th>month</th>\n",
       "      <th>date</th>\n",
       "      <th>children</th>\n",
       "      <th>charges</th>\n",
       "      <th>Hospital tier</th>\n",
       "      <th>City tier</th>\n",
       "      <th>State ID</th>\n",
       "      <th>BMI</th>\n",
       "      <th>Diabetic</th>\n",
       "      <th>Heart Issues</th>\n",
       "      <th>Any Transplants</th>\n",
       "      <th>Cancer history</th>\n",
       "      <th>NumberOfMajorSurgeries</th>\n",
       "      <th>smoker</th>\n",
       "      <th>name</th>\n",
       "      <th>Year</th>\n",
       "      <th>Month</th>\n",
       "      <th>Date</th>\n",
       "    </tr>\n",
       "  </thead>\n",
       "  <tbody>\n",
       "    <tr>\n",
       "      <th>0</th>\n",
       "      <td>Id2335</td>\n",
       "      <td>1992-01-01</td>\n",
       "      <td>1900-07-01</td>\n",
       "      <td>1900-01-09</td>\n",
       "      <td>0</td>\n",
       "      <td>563.84</td>\n",
       "      <td>tier - 2</td>\n",
       "      <td>tier - 3</td>\n",
       "      <td>2</td>\n",
       "      <td>17.58</td>\n",
       "      <td>0</td>\n",
       "      <td>No</td>\n",
       "      <td>No</td>\n",
       "      <td>No</td>\n",
       "      <td>1</td>\n",
       "      <td>No</td>\n",
       "      <td>German, Mr.  Aaron K</td>\n",
       "      <td>1992</td>\n",
       "      <td>7</td>\n",
       "      <td>9</td>\n",
       "    </tr>\n",
       "    <tr>\n",
       "      <th>1</th>\n",
       "      <td>Id2334</td>\n",
       "      <td>1992-01-01</td>\n",
       "      <td>1900-11-01</td>\n",
       "      <td>1900-01-30</td>\n",
       "      <td>0</td>\n",
       "      <td>570.62</td>\n",
       "      <td>tier - 2</td>\n",
       "      <td>tier - 1</td>\n",
       "      <td>2</td>\n",
       "      <td>17.60</td>\n",
       "      <td>0</td>\n",
       "      <td>No</td>\n",
       "      <td>No</td>\n",
       "      <td>No</td>\n",
       "      <td>1</td>\n",
       "      <td>No</td>\n",
       "      <td>Rosendahl, Mr.  Evan P</td>\n",
       "      <td>1992</td>\n",
       "      <td>11</td>\n",
       "      <td>30</td>\n",
       "    </tr>\n",
       "  </tbody>\n",
       "</table>\n",
       "</div>"
      ],
      "text/plain": [
       "  Customer ID       year      month       date  children  charges  \\\n",
       "0      Id2335 1992-01-01 1900-07-01 1900-01-09         0   563.84   \n",
       "1      Id2334 1992-01-01 1900-11-01 1900-01-30         0   570.62   \n",
       "\n",
       "  Hospital tier City tier  State ID    BMI  Diabetic Heart Issues  \\\n",
       "0      tier - 2  tier - 3         2  17.58         0           No   \n",
       "1      tier - 2  tier - 1         2  17.60         0           No   \n",
       "\n",
       "  Any Transplants Cancer history  NumberOfMajorSurgeries smoker  \\\n",
       "0              No             No                       1     No   \n",
       "1              No             No                       1     No   \n",
       "\n",
       "                     name  Year  Month  Date  \n",
       "0    German, Mr.  Aaron K  1992      7     9  \n",
       "1  Rosendahl, Mr.  Evan P  1992     11    30  "
      ]
     },
     "execution_count": 333,
     "metadata": {},
     "output_type": "execute_result"
    }
   ],
   "source": [
    "merged_df.head(2)"
   ]
  },
  {
   "cell_type": "code",
   "execution_count": 334,
   "id": "dbc62d74",
   "metadata": {},
   "outputs": [
    {
     "data": {
      "text/plain": [
       "Customer ID                       object\n",
       "year                      datetime64[ns]\n",
       "month                     datetime64[ns]\n",
       "date                      datetime64[ns]\n",
       "children                           int64\n",
       "charges                          float64\n",
       "Hospital tier                     object\n",
       "City tier                         object\n",
       "State ID                           int64\n",
       "BMI                              float64\n",
       "Diabetic                           int64\n",
       "Heart Issues                      object\n",
       "Any Transplants                   object\n",
       "Cancer history                    object\n",
       "NumberOfMajorSurgeries             int64\n",
       "smoker                            object\n",
       "name                              object\n",
       "Year                               int64\n",
       "Month                              int64\n",
       "Date                               int64\n",
       "dtype: object"
      ]
     },
     "execution_count": 334,
     "metadata": {},
     "output_type": "execute_result"
    }
   ],
   "source": [
    "merged_df.dtypes"
   ]
  },
  {
   "cell_type": "markdown",
   "id": "fc2e8224",
   "metadata": {},
   "source": [
    "#### **dropping old year, month and date columns"
   ]
  },
  {
   "cell_type": "code",
   "execution_count": 335,
   "id": "cca51542",
   "metadata": {},
   "outputs": [],
   "source": [
    "merged_df=merged_df.drop(columns=['year','month','date'])"
   ]
  },
  {
   "cell_type": "code",
   "execution_count": 336,
   "id": "fb2ea554",
   "metadata": {},
   "outputs": [
    {
     "data": {
      "text/html": [
       "<div>\n",
       "<style scoped>\n",
       "    .dataframe tbody tr th:only-of-type {\n",
       "        vertical-align: middle;\n",
       "    }\n",
       "\n",
       "    .dataframe tbody tr th {\n",
       "        vertical-align: top;\n",
       "    }\n",
       "\n",
       "    .dataframe thead th {\n",
       "        text-align: right;\n",
       "    }\n",
       "</style>\n",
       "<table border=\"1\" class=\"dataframe\">\n",
       "  <thead>\n",
       "    <tr style=\"text-align: right;\">\n",
       "      <th></th>\n",
       "      <th>Customer ID</th>\n",
       "      <th>children</th>\n",
       "      <th>charges</th>\n",
       "      <th>Hospital tier</th>\n",
       "      <th>City tier</th>\n",
       "      <th>State ID</th>\n",
       "      <th>BMI</th>\n",
       "      <th>Diabetic</th>\n",
       "      <th>Heart Issues</th>\n",
       "      <th>Any Transplants</th>\n",
       "      <th>Cancer history</th>\n",
       "      <th>NumberOfMajorSurgeries</th>\n",
       "      <th>smoker</th>\n",
       "      <th>name</th>\n",
       "      <th>Year</th>\n",
       "      <th>Month</th>\n",
       "      <th>Date</th>\n",
       "    </tr>\n",
       "  </thead>\n",
       "  <tbody>\n",
       "    <tr>\n",
       "      <th>0</th>\n",
       "      <td>Id2335</td>\n",
       "      <td>0</td>\n",
       "      <td>563.84</td>\n",
       "      <td>tier - 2</td>\n",
       "      <td>tier - 3</td>\n",
       "      <td>2</td>\n",
       "      <td>17.58</td>\n",
       "      <td>0</td>\n",
       "      <td>No</td>\n",
       "      <td>No</td>\n",
       "      <td>No</td>\n",
       "      <td>1</td>\n",
       "      <td>No</td>\n",
       "      <td>German, Mr.  Aaron K</td>\n",
       "      <td>1992</td>\n",
       "      <td>7</td>\n",
       "      <td>9</td>\n",
       "    </tr>\n",
       "    <tr>\n",
       "      <th>1</th>\n",
       "      <td>Id2334</td>\n",
       "      <td>0</td>\n",
       "      <td>570.62</td>\n",
       "      <td>tier - 2</td>\n",
       "      <td>tier - 1</td>\n",
       "      <td>2</td>\n",
       "      <td>17.60</td>\n",
       "      <td>0</td>\n",
       "      <td>No</td>\n",
       "      <td>No</td>\n",
       "      <td>No</td>\n",
       "      <td>1</td>\n",
       "      <td>No</td>\n",
       "      <td>Rosendahl, Mr.  Evan P</td>\n",
       "      <td>1992</td>\n",
       "      <td>11</td>\n",
       "      <td>30</td>\n",
       "    </tr>\n",
       "  </tbody>\n",
       "</table>\n",
       "</div>"
      ],
      "text/plain": [
       "  Customer ID  children  charges Hospital tier City tier  State ID    BMI  \\\n",
       "0      Id2335         0   563.84      tier - 2  tier - 3         2  17.58   \n",
       "1      Id2334         0   570.62      tier - 2  tier - 1         2  17.60   \n",
       "\n",
       "   Diabetic Heart Issues Any Transplants Cancer history  \\\n",
       "0         0           No              No             No   \n",
       "1         0           No              No             No   \n",
       "\n",
       "   NumberOfMajorSurgeries smoker                    name  Year  Month  Date  \n",
       "0                       1     No    German, Mr.  Aaron K  1992      7     9  \n",
       "1                       1     No  Rosendahl, Mr.  Evan P  1992     11    30  "
      ]
     },
     "execution_count": 336,
     "metadata": {},
     "output_type": "execute_result"
    }
   ],
   "source": [
    "merged_df.head(2)"
   ]
  },
  {
   "cell_type": "markdown",
   "id": "8f897ea3",
   "metadata": {},
   "source": [
    "#### **Now combining all three columns(year,month and date) into one column as Date_of_ Birth"
   ]
  },
  {
   "cell_type": "code",
   "execution_count": 337,
   "id": "c3df67cc",
   "metadata": {},
   "outputs": [],
   "source": [
    "merged_df['Date_of_Birth']=merged_df.apply(lambda row:pd.to_datetime(f\"{row['Year']}-{row['Month']}-{row['Date']}\",\n",
    "                                                                     errors='coerce'),axis=1)"
   ]
  },
  {
   "cell_type": "code",
   "execution_count": 338,
   "id": "eaa99014",
   "metadata": {},
   "outputs": [
    {
     "data": {
      "text/html": [
       "<div>\n",
       "<style scoped>\n",
       "    .dataframe tbody tr th:only-of-type {\n",
       "        vertical-align: middle;\n",
       "    }\n",
       "\n",
       "    .dataframe tbody tr th {\n",
       "        vertical-align: top;\n",
       "    }\n",
       "\n",
       "    .dataframe thead th {\n",
       "        text-align: right;\n",
       "    }\n",
       "</style>\n",
       "<table border=\"1\" class=\"dataframe\">\n",
       "  <thead>\n",
       "    <tr style=\"text-align: right;\">\n",
       "      <th></th>\n",
       "      <th>Customer ID</th>\n",
       "      <th>children</th>\n",
       "      <th>charges</th>\n",
       "      <th>Hospital tier</th>\n",
       "      <th>City tier</th>\n",
       "      <th>State ID</th>\n",
       "      <th>BMI</th>\n",
       "      <th>Diabetic</th>\n",
       "      <th>Heart Issues</th>\n",
       "      <th>Any Transplants</th>\n",
       "      <th>Cancer history</th>\n",
       "      <th>NumberOfMajorSurgeries</th>\n",
       "      <th>smoker</th>\n",
       "      <th>name</th>\n",
       "      <th>Year</th>\n",
       "      <th>Month</th>\n",
       "      <th>Date</th>\n",
       "      <th>Date_of_Birth</th>\n",
       "    </tr>\n",
       "  </thead>\n",
       "  <tbody>\n",
       "    <tr>\n",
       "      <th>0</th>\n",
       "      <td>Id2335</td>\n",
       "      <td>0</td>\n",
       "      <td>563.84</td>\n",
       "      <td>tier - 2</td>\n",
       "      <td>tier - 3</td>\n",
       "      <td>2</td>\n",
       "      <td>17.58</td>\n",
       "      <td>0</td>\n",
       "      <td>No</td>\n",
       "      <td>No</td>\n",
       "      <td>No</td>\n",
       "      <td>1</td>\n",
       "      <td>No</td>\n",
       "      <td>German, Mr.  Aaron K</td>\n",
       "      <td>1992</td>\n",
       "      <td>7</td>\n",
       "      <td>9</td>\n",
       "      <td>1992-07-09</td>\n",
       "    </tr>\n",
       "    <tr>\n",
       "      <th>1</th>\n",
       "      <td>Id2334</td>\n",
       "      <td>0</td>\n",
       "      <td>570.62</td>\n",
       "      <td>tier - 2</td>\n",
       "      <td>tier - 1</td>\n",
       "      <td>2</td>\n",
       "      <td>17.60</td>\n",
       "      <td>0</td>\n",
       "      <td>No</td>\n",
       "      <td>No</td>\n",
       "      <td>No</td>\n",
       "      <td>1</td>\n",
       "      <td>No</td>\n",
       "      <td>Rosendahl, Mr.  Evan P</td>\n",
       "      <td>1992</td>\n",
       "      <td>11</td>\n",
       "      <td>30</td>\n",
       "      <td>1992-11-30</td>\n",
       "    </tr>\n",
       "  </tbody>\n",
       "</table>\n",
       "</div>"
      ],
      "text/plain": [
       "  Customer ID  children  charges Hospital tier City tier  State ID    BMI  \\\n",
       "0      Id2335         0   563.84      tier - 2  tier - 3         2  17.58   \n",
       "1      Id2334         0   570.62      tier - 2  tier - 1         2  17.60   \n",
       "\n",
       "   Diabetic Heart Issues Any Transplants Cancer history  \\\n",
       "0         0           No              No             No   \n",
       "1         0           No              No             No   \n",
       "\n",
       "   NumberOfMajorSurgeries smoker                    name  Year  Month  Date  \\\n",
       "0                       1     No    German, Mr.  Aaron K  1992      7     9   \n",
       "1                       1     No  Rosendahl, Mr.  Evan P  1992     11    30   \n",
       "\n",
       "  Date_of_Birth  \n",
       "0    1992-07-09  \n",
       "1    1992-11-30  "
      ]
     },
     "execution_count": 338,
     "metadata": {},
     "output_type": "execute_result"
    }
   ],
   "source": [
    "merged_df.head(2)"
   ]
  },
  {
   "cell_type": "markdown",
   "id": "d2b8791c",
   "metadata": {},
   "source": [
    "#### **caluculating age by substracting  Date_of_Birth from current_datetime and assigning age to the new column as age"
   ]
  },
  {
   "cell_type": "code",
   "execution_count": 339,
   "id": "8a7702f5",
   "metadata": {},
   "outputs": [
    {
     "data": {
      "text/plain": [
       "datetime.datetime(2024, 8, 4, 21, 44, 35, 400302)"
      ]
     },
     "execution_count": 339,
     "metadata": {},
     "output_type": "execute_result"
    }
   ],
   "source": [
    "from datetime import datetime\n",
    "current_datetime=datetime.now()\n",
    "current_datetime"
   ]
  },
  {
   "cell_type": "code",
   "execution_count": 340,
   "id": "8233f601",
   "metadata": {},
   "outputs": [
    {
     "data": {
      "text/html": [
       "<div>\n",
       "<style scoped>\n",
       "    .dataframe tbody tr th:only-of-type {\n",
       "        vertical-align: middle;\n",
       "    }\n",
       "\n",
       "    .dataframe tbody tr th {\n",
       "        vertical-align: top;\n",
       "    }\n",
       "\n",
       "    .dataframe thead th {\n",
       "        text-align: right;\n",
       "    }\n",
       "</style>\n",
       "<table border=\"1\" class=\"dataframe\">\n",
       "  <thead>\n",
       "    <tr style=\"text-align: right;\">\n",
       "      <th></th>\n",
       "      <th>Customer ID</th>\n",
       "      <th>children</th>\n",
       "      <th>charges</th>\n",
       "      <th>Hospital tier</th>\n",
       "      <th>City tier</th>\n",
       "      <th>State ID</th>\n",
       "      <th>BMI</th>\n",
       "      <th>Diabetic</th>\n",
       "      <th>Heart Issues</th>\n",
       "      <th>Any Transplants</th>\n",
       "      <th>Cancer history</th>\n",
       "      <th>NumberOfMajorSurgeries</th>\n",
       "      <th>smoker</th>\n",
       "      <th>name</th>\n",
       "      <th>Year</th>\n",
       "      <th>Month</th>\n",
       "      <th>Date</th>\n",
       "      <th>Date_of_Birth</th>\n",
       "      <th>age</th>\n",
       "    </tr>\n",
       "  </thead>\n",
       "  <tbody>\n",
       "    <tr>\n",
       "      <th>0</th>\n",
       "      <td>Id2335</td>\n",
       "      <td>0</td>\n",
       "      <td>563.84</td>\n",
       "      <td>tier - 2</td>\n",
       "      <td>tier - 3</td>\n",
       "      <td>2</td>\n",
       "      <td>17.58</td>\n",
       "      <td>0</td>\n",
       "      <td>No</td>\n",
       "      <td>No</td>\n",
       "      <td>No</td>\n",
       "      <td>1</td>\n",
       "      <td>No</td>\n",
       "      <td>German, Mr.  Aaron K</td>\n",
       "      <td>1992</td>\n",
       "      <td>7</td>\n",
       "      <td>9</td>\n",
       "      <td>1992-07-09</td>\n",
       "      <td>32</td>\n",
       "    </tr>\n",
       "    <tr>\n",
       "      <th>1</th>\n",
       "      <td>Id2334</td>\n",
       "      <td>0</td>\n",
       "      <td>570.62</td>\n",
       "      <td>tier - 2</td>\n",
       "      <td>tier - 1</td>\n",
       "      <td>2</td>\n",
       "      <td>17.60</td>\n",
       "      <td>0</td>\n",
       "      <td>No</td>\n",
       "      <td>No</td>\n",
       "      <td>No</td>\n",
       "      <td>1</td>\n",
       "      <td>No</td>\n",
       "      <td>Rosendahl, Mr.  Evan P</td>\n",
       "      <td>1992</td>\n",
       "      <td>11</td>\n",
       "      <td>30</td>\n",
       "      <td>1992-11-30</td>\n",
       "      <td>31</td>\n",
       "    </tr>\n",
       "  </tbody>\n",
       "</table>\n",
       "</div>"
      ],
      "text/plain": [
       "  Customer ID  children  charges Hospital tier City tier  State ID    BMI  \\\n",
       "0      Id2335         0   563.84      tier - 2  tier - 3         2  17.58   \n",
       "1      Id2334         0   570.62      tier - 2  tier - 1         2  17.60   \n",
       "\n",
       "   Diabetic Heart Issues Any Transplants Cancer history  \\\n",
       "0         0           No              No             No   \n",
       "1         0           No              No             No   \n",
       "\n",
       "   NumberOfMajorSurgeries smoker                    name  Year  Month  Date  \\\n",
       "0                       1     No    German, Mr.  Aaron K  1992      7     9   \n",
       "1                       1     No  Rosendahl, Mr.  Evan P  1992     11    30   \n",
       "\n",
       "  Date_of_Birth  age  \n",
       "0    1992-07-09   32  \n",
       "1    1992-11-30   31  "
      ]
     },
     "execution_count": 340,
     "metadata": {},
     "output_type": "execute_result"
    }
   ],
   "source": [
    "merged_df['age']=(current_datetime - merged_df['Date_of_Birth']).dt.days//365\n",
    "merged_df.head(2)"
   ]
  },
  {
   "cell_type": "markdown",
   "id": "4dd74997",
   "metadata": {},
   "source": [
    "#### **df['date_of_birth']).dt.days calculates the difference in days, and then // 365 converts it to years. This approach handles missing or invalid values gracefully."
   ]
  },
  {
   "cell_type": "markdown",
   "id": "89a4bb27",
   "metadata": {},
   "source": [
    "## --The gender of the patient may be an important factor in determining the cost of hospitalization. The salutations in a beneficiary's name can be used to determine their gender. Make a new field for the beneficiary's gender."
   ]
  },
  {
   "cell_type": "code",
   "execution_count": 341,
   "id": "cf38ec1d",
   "metadata": {},
   "outputs": [],
   "source": [
    "merged_df['gender']=merged_df['name'].apply(lambda x: 'male' if 'Mr' in x else ('female' if 'Ms' in x else None))"
   ]
  },
  {
   "cell_type": "code",
   "execution_count": 342,
   "id": "654d45b6",
   "metadata": {},
   "outputs": [
    {
     "data": {
      "text/html": [
       "<div>\n",
       "<style scoped>\n",
       "    .dataframe tbody tr th:only-of-type {\n",
       "        vertical-align: middle;\n",
       "    }\n",
       "\n",
       "    .dataframe tbody tr th {\n",
       "        vertical-align: top;\n",
       "    }\n",
       "\n",
       "    .dataframe thead th {\n",
       "        text-align: right;\n",
       "    }\n",
       "</style>\n",
       "<table border=\"1\" class=\"dataframe\">\n",
       "  <thead>\n",
       "    <tr style=\"text-align: right;\">\n",
       "      <th></th>\n",
       "      <th>Customer ID</th>\n",
       "      <th>children</th>\n",
       "      <th>charges</th>\n",
       "      <th>Hospital tier</th>\n",
       "      <th>City tier</th>\n",
       "      <th>State ID</th>\n",
       "      <th>BMI</th>\n",
       "      <th>Diabetic</th>\n",
       "      <th>Heart Issues</th>\n",
       "      <th>Any Transplants</th>\n",
       "      <th>Cancer history</th>\n",
       "      <th>NumberOfMajorSurgeries</th>\n",
       "      <th>smoker</th>\n",
       "      <th>name</th>\n",
       "      <th>Year</th>\n",
       "      <th>Month</th>\n",
       "      <th>Date</th>\n",
       "      <th>Date_of_Birth</th>\n",
       "      <th>age</th>\n",
       "      <th>gender</th>\n",
       "    </tr>\n",
       "  </thead>\n",
       "  <tbody>\n",
       "    <tr>\n",
       "      <th>0</th>\n",
       "      <td>Id2335</td>\n",
       "      <td>0</td>\n",
       "      <td>563.84</td>\n",
       "      <td>tier - 2</td>\n",
       "      <td>tier - 3</td>\n",
       "      <td>2</td>\n",
       "      <td>17.58</td>\n",
       "      <td>0</td>\n",
       "      <td>No</td>\n",
       "      <td>No</td>\n",
       "      <td>No</td>\n",
       "      <td>1</td>\n",
       "      <td>No</td>\n",
       "      <td>German, Mr.  Aaron K</td>\n",
       "      <td>1992</td>\n",
       "      <td>7</td>\n",
       "      <td>9</td>\n",
       "      <td>1992-07-09</td>\n",
       "      <td>32</td>\n",
       "      <td>male</td>\n",
       "    </tr>\n",
       "    <tr>\n",
       "      <th>1</th>\n",
       "      <td>Id2334</td>\n",
       "      <td>0</td>\n",
       "      <td>570.62</td>\n",
       "      <td>tier - 2</td>\n",
       "      <td>tier - 1</td>\n",
       "      <td>2</td>\n",
       "      <td>17.60</td>\n",
       "      <td>0</td>\n",
       "      <td>No</td>\n",
       "      <td>No</td>\n",
       "      <td>No</td>\n",
       "      <td>1</td>\n",
       "      <td>No</td>\n",
       "      <td>Rosendahl, Mr.  Evan P</td>\n",
       "      <td>1992</td>\n",
       "      <td>11</td>\n",
       "      <td>30</td>\n",
       "      <td>1992-11-30</td>\n",
       "      <td>31</td>\n",
       "      <td>male</td>\n",
       "    </tr>\n",
       "  </tbody>\n",
       "</table>\n",
       "</div>"
      ],
      "text/plain": [
       "  Customer ID  children  charges Hospital tier City tier  State ID    BMI  \\\n",
       "0      Id2335         0   563.84      tier - 2  tier - 3         2  17.58   \n",
       "1      Id2334         0   570.62      tier - 2  tier - 1         2  17.60   \n",
       "\n",
       "   Diabetic Heart Issues Any Transplants Cancer history  \\\n",
       "0         0           No              No             No   \n",
       "1         0           No              No             No   \n",
       "\n",
       "   NumberOfMajorSurgeries smoker                    name  Year  Month  Date  \\\n",
       "0                       1     No    German, Mr.  Aaron K  1992      7     9   \n",
       "1                       1     No  Rosendahl, Mr.  Evan P  1992     11    30   \n",
       "\n",
       "  Date_of_Birth  age gender  \n",
       "0    1992-07-09   32   male  \n",
       "1    1992-11-30   31   male  "
      ]
     },
     "execution_count": 342,
     "metadata": {},
     "output_type": "execute_result"
    }
   ],
   "source": [
    "merged_df.head(2)"
   ]
  },
  {
   "cell_type": "code",
   "execution_count": 343,
   "id": "13eedf09",
   "metadata": {},
   "outputs": [
    {
     "data": {
      "text/plain": [
       "array(['male', 'female'], dtype=object)"
      ]
     },
     "execution_count": 343,
     "metadata": {},
     "output_type": "execute_result"
    }
   ],
   "source": [
    "merged_df['gender'].unique()"
   ]
  },
  {
   "cell_type": "markdown",
   "id": "bf1c540f",
   "metadata": {},
   "source": [
    "#### **In the name column, names have their salutations like Mr and Ms based on these keywords separated names where male for the names which have Mr and female for the names which have Ms then assigned them to the new column as    gender"
   ]
  },
  {
   "cell_type": "code",
   "execution_count": 344,
   "id": "59e729c9",
   "metadata": {},
   "outputs": [
    {
     "data": {
      "text/plain": [
       "Customer ID               0\n",
       "children                  0\n",
       "charges                   0\n",
       "Hospital tier             0\n",
       "City tier                 0\n",
       "State ID                  0\n",
       "BMI                       0\n",
       "Diabetic                  0\n",
       "Heart Issues              0\n",
       "Any Transplants           0\n",
       "Cancer history            0\n",
       "NumberOfMajorSurgeries    0\n",
       "smoker                    0\n",
       "name                      0\n",
       "Year                      0\n",
       "Month                     0\n",
       "Date                      0\n",
       "Date_of_Birth             0\n",
       "age                       0\n",
       "gender                    0\n",
       "dtype: int64"
      ]
     },
     "execution_count": 344,
     "metadata": {},
     "output_type": "execute_result"
    }
   ],
   "source": [
    "merged_df.isnull().sum()"
   ]
  },
  {
   "cell_type": "code",
   "execution_count": 345,
   "id": "9ec7af61",
   "metadata": {},
   "outputs": [],
   "source": [
    "#merged_df1=merged_df.copy()"
   ]
  },
  {
   "cell_type": "code",
   "execution_count": 346,
   "id": "0057356f",
   "metadata": {},
   "outputs": [],
   "source": [
    "#merged_df1.to_csv('Downloads/Datasets (1)/Capstone_1/Hospitalisation details and Medical Examinations.csv')"
   ]
  },
  {
   "cell_type": "markdown",
   "id": "1c58e21e",
   "metadata": {},
   "source": [
    "## --State how the distribution is different across gender and tiers of hospitals"
   ]
  },
  {
   "cell_type": "code",
   "execution_count": 347,
   "id": "135551b4",
   "metadata": {},
   "outputs": [
    {
     "data": {
      "text/plain": [
       "male      1302\n",
       "female    1023\n",
       "Name: gender, dtype: int64"
      ]
     },
     "execution_count": 347,
     "metadata": {},
     "output_type": "execute_result"
    }
   ],
   "source": [
    "merged_df['gender'].value_counts()"
   ]
  },
  {
   "cell_type": "code",
   "execution_count": 348,
   "id": "e2d35243",
   "metadata": {},
   "outputs": [
    {
     "data": {
      "text/plain": [
       "gender  Hospital tier\n",
       "female  tier - 1          88\n",
       "        tier - 2         705\n",
       "        tier - 3         230\n",
       "male    tier - 1         212\n",
       "        tier - 2         629\n",
       "        tier - 3         461\n",
       "dtype: int64"
      ]
     },
     "execution_count": 348,
     "metadata": {},
     "output_type": "execute_result"
    }
   ],
   "source": [
    "distrubution=merged_df.groupby(['gender','Hospital tier']).size()\n",
    "distrubution"
   ]
  },
  {
   "cell_type": "markdown",
   "id": "14c9deba",
   "metadata": {},
   "source": [
    "#### **Total females are 1023, out of 1023   88 belongs to tier - 1,  705 belongs to tier - 2 and 230 belongs to tier - 3.\n",
    "#### **Total males are 1302, out of 1302    212 belongs to tier - 1, 629 belongs to tier - 2 and 461 belongs to tier - 3."
   ]
  },
  {
   "cell_type": "markdown",
   "id": "d829383f",
   "metadata": {},
   "source": [
    "#### **Replacing Hospital tier and City tier column values with 1,2 and 3."
   ]
  },
  {
   "cell_type": "code",
   "execution_count": 349,
   "id": "a39e3606",
   "metadata": {},
   "outputs": [
    {
     "data": {
      "text/plain": [
       "array(['tier - 2', 'tier - 3', 'tier - 1'], dtype=object)"
      ]
     },
     "execution_count": 349,
     "metadata": {},
     "output_type": "execute_result"
    }
   ],
   "source": [
    "merged_df['Hospital tier'].unique()"
   ]
  },
  {
   "cell_type": "code",
   "execution_count": 350,
   "id": "c60d26b6",
   "metadata": {},
   "outputs": [
    {
     "data": {
      "text/plain": [
       "array(['tier - 3', 'tier - 1', 'tier - 2'], dtype=object)"
      ]
     },
     "execution_count": 350,
     "metadata": {},
     "output_type": "execute_result"
    }
   ],
   "source": [
    "merged_df['City tier'].unique()"
   ]
  },
  {
   "cell_type": "code",
   "execution_count": 351,
   "id": "d2d624fe",
   "metadata": {},
   "outputs": [
    {
     "data": {
      "text/plain": [
       "array(['tier - 2', 'tier - 3', 'tier - 1'], dtype=object)"
      ]
     },
     "execution_count": 351,
     "metadata": {},
     "output_type": "execute_result"
    }
   ],
   "source": [
    "merged_df['Hospital tier'].unique()"
   ]
  },
  {
   "cell_type": "code",
   "execution_count": 352,
   "id": "b88fe6fe",
   "metadata": {},
   "outputs": [],
   "source": [
    "merged_df.replace('tier - 1',1,inplace=True)\n",
    "merged_df.replace('tier - 2',2,inplace=True)\n",
    "merged_df.replace('tier - 3',3,inplace=True)"
   ]
  },
  {
   "cell_type": "code",
   "execution_count": 353,
   "id": "652916f1",
   "metadata": {},
   "outputs": [
    {
     "data": {
      "text/plain": [
       "Customer ID                       object\n",
       "children                           int64\n",
       "charges                          float64\n",
       "Hospital tier                      int64\n",
       "City tier                          int64\n",
       "State ID                           int64\n",
       "BMI                              float64\n",
       "Diabetic                           int64\n",
       "Heart Issues                      object\n",
       "Any Transplants                   object\n",
       "Cancer history                    object\n",
       "NumberOfMajorSurgeries             int64\n",
       "smoker                            object\n",
       "name                              object\n",
       "Year                               int64\n",
       "Month                              int64\n",
       "Date                               int64\n",
       "Date_of_Birth             datetime64[ns]\n",
       "age                                int64\n",
       "gender                            object\n",
       "dtype: object"
      ]
     },
     "execution_count": 353,
     "metadata": {},
     "output_type": "execute_result"
    }
   ],
   "source": [
    "merged_df.dtypes"
   ]
  },
  {
   "cell_type": "markdown",
   "id": "a731aed2",
   "metadata": {},
   "source": [
    "## --You should also visualize the distribution of costs using a histogram, box and whisker plot, and swarm plot"
   ]
  },
  {
   "cell_type": "markdown",
   "id": "01126c06",
   "metadata": {},
   "source": [
    "### histogram using seaborn :"
   ]
  },
  {
   "cell_type": "code",
   "execution_count": 354,
   "id": "f8151a24",
   "metadata": {},
   "outputs": [
    {
     "data": {
      "image/png": "[encoded data removed]",
      "text/plain": [
       "<Figure size 640x480 with 1 Axes>"
      ]
     },
     "metadata": {},
     "output_type": "display_data"
    }
   ],
   "source": [
    "sns.histplot(merged_df['charges']);"
   ]
  },
  {
   "cell_type": "markdown",
   "id": "744b0eac",
   "metadata": {},
   "source": [
    "### box and whisker plot using matplotlib.pyplot :"
   ]
  },
  {
   "cell_type": "code",
   "execution_count": 355,
   "id": "3982af83",
   "metadata": {},
   "outputs": [
    {
     "data": {
      "image/png": "[encoded data removed]",
      "text/plain": [
       "<Figure size 640x480 with 1 Axes>"
      ]
     },
     "metadata": {},
     "output_type": "display_data"
    }
   ],
   "source": [
    "plt.boxplot(merged_df['charges']);"
   ]
  },
  {
   "cell_type": "markdown",
   "id": "b03d4548",
   "metadata": {},
   "source": [
    "### swarm plot using seaborn :"
   ]
  },
  {
   "cell_type": "code",
   "execution_count": 356,
   "id": "af23ce86",
   "metadata": {},
   "outputs": [
    {
     "data": {
      "image/png": "[encoded data removed]",
      "text/plain": [
       "<Figure size 640x480 with 1 Axes>"
      ]
     },
     "metadata": {},
     "output_type": "display_data"
    }
   ],
   "source": [
    "sns.swarmplot(merged_df['charges']);"
   ]
  },
  {
   "cell_type": "code",
   "execution_count": 357,
   "id": "76c2abdc",
   "metadata": {},
   "outputs": [
    {
     "data": {
      "text/html": [
       "<div>\n",
       "<style scoped>\n",
       "    .dataframe tbody tr th:only-of-type {\n",
       "        vertical-align: middle;\n",
       "    }\n",
       "\n",
       "    .dataframe tbody tr th {\n",
       "        vertical-align: top;\n",
       "    }\n",
       "\n",
       "    .dataframe thead th {\n",
       "        text-align: right;\n",
       "    }\n",
       "</style>\n",
       "<table border=\"1\" class=\"dataframe\">\n",
       "  <thead>\n",
       "    <tr style=\"text-align: right;\">\n",
       "      <th></th>\n",
       "      <th>Customer ID</th>\n",
       "      <th>children</th>\n",
       "      <th>charges</th>\n",
       "      <th>Hospital tier</th>\n",
       "      <th>City tier</th>\n",
       "      <th>State ID</th>\n",
       "      <th>BMI</th>\n",
       "      <th>Diabetic</th>\n",
       "      <th>Heart Issues</th>\n",
       "      <th>Any Transplants</th>\n",
       "      <th>Cancer history</th>\n",
       "      <th>NumberOfMajorSurgeries</th>\n",
       "      <th>smoker</th>\n",
       "      <th>name</th>\n",
       "      <th>Year</th>\n",
       "      <th>Month</th>\n",
       "      <th>Date</th>\n",
       "      <th>Date_of_Birth</th>\n",
       "      <th>age</th>\n",
       "      <th>gender</th>\n",
       "    </tr>\n",
       "  </thead>\n",
       "  <tbody>\n",
       "    <tr>\n",
       "      <th>0</th>\n",
       "      <td>Id2335</td>\n",
       "      <td>0</td>\n",
       "      <td>563.84</td>\n",
       "      <td>2</td>\n",
       "      <td>3</td>\n",
       "      <td>2</td>\n",
       "      <td>17.58</td>\n",
       "      <td>0</td>\n",
       "      <td>No</td>\n",
       "      <td>No</td>\n",
       "      <td>No</td>\n",
       "      <td>1</td>\n",
       "      <td>No</td>\n",
       "      <td>German, Mr.  Aaron K</td>\n",
       "      <td>1992</td>\n",
       "      <td>7</td>\n",
       "      <td>9</td>\n",
       "      <td>1992-07-09</td>\n",
       "      <td>32</td>\n",
       "      <td>male</td>\n",
       "    </tr>\n",
       "    <tr>\n",
       "      <th>1</th>\n",
       "      <td>Id2334</td>\n",
       "      <td>0</td>\n",
       "      <td>570.62</td>\n",
       "      <td>2</td>\n",
       "      <td>1</td>\n",
       "      <td>2</td>\n",
       "      <td>17.60</td>\n",
       "      <td>0</td>\n",
       "      <td>No</td>\n",
       "      <td>No</td>\n",
       "      <td>No</td>\n",
       "      <td>1</td>\n",
       "      <td>No</td>\n",
       "      <td>Rosendahl, Mr.  Evan P</td>\n",
       "      <td>1992</td>\n",
       "      <td>11</td>\n",
       "      <td>30</td>\n",
       "      <td>1992-11-30</td>\n",
       "      <td>31</td>\n",
       "      <td>male</td>\n",
       "    </tr>\n",
       "    <tr>\n",
       "      <th>2</th>\n",
       "      <td>Id2333</td>\n",
       "      <td>0</td>\n",
       "      <td>600.00</td>\n",
       "      <td>2</td>\n",
       "      <td>1</td>\n",
       "      <td>2</td>\n",
       "      <td>16.47</td>\n",
       "      <td>0</td>\n",
       "      <td>No</td>\n",
       "      <td>No</td>\n",
       "      <td>Yes</td>\n",
       "      <td>1</td>\n",
       "      <td>No</td>\n",
       "      <td>Albano, Ms.  Julie</td>\n",
       "      <td>1993</td>\n",
       "      <td>6</td>\n",
       "      <td>30</td>\n",
       "      <td>1993-06-30</td>\n",
       "      <td>31</td>\n",
       "      <td>female</td>\n",
       "    </tr>\n",
       "  </tbody>\n",
       "</table>\n",
       "</div>"
      ],
      "text/plain": [
       "  Customer ID  children  charges  Hospital tier  City tier  State ID    BMI  \\\n",
       "0      Id2335         0   563.84              2          3         2  17.58   \n",
       "1      Id2334         0   570.62              2          1         2  17.60   \n",
       "2      Id2333         0   600.00              2          1         2  16.47   \n",
       "\n",
       "   Diabetic Heart Issues Any Transplants Cancer history  \\\n",
       "0         0           No              No             No   \n",
       "1         0           No              No             No   \n",
       "2         0           No              No            Yes   \n",
       "\n",
       "   NumberOfMajorSurgeries smoker                    name  Year  Month  Date  \\\n",
       "0                       1     No    German, Mr.  Aaron K  1992      7     9   \n",
       "1                       1     No  Rosendahl, Mr.  Evan P  1992     11    30   \n",
       "2                       1     No      Albano, Ms.  Julie  1993      6    30   \n",
       "\n",
       "  Date_of_Birth  age  gender  \n",
       "0    1992-07-09   32    male  \n",
       "1    1992-11-30   31    male  \n",
       "2    1993-06-30   31  female  "
      ]
     },
     "execution_count": 357,
     "metadata": {},
     "output_type": "execute_result"
    }
   ],
   "source": [
    "merged_df.head(3)"
   ]
  },
  {
   "cell_type": "markdown",
   "id": "7c5615d4",
   "metadata": {},
   "source": [
    "## --Create a frequency table and a stacked bar chart to visualize the count of people in the different tiers of cities and hospitals"
   ]
  },
  {
   "cell_type": "code",
   "execution_count": 358,
   "id": "c2a2f4ca",
   "metadata": {},
   "outputs": [
    {
     "data": {
      "text/html": [
       "<div>\n",
       "<style scoped>\n",
       "    .dataframe tbody tr th:only-of-type {\n",
       "        vertical-align: middle;\n",
       "    }\n",
       "\n",
       "    .dataframe tbody tr th {\n",
       "        vertical-align: top;\n",
       "    }\n",
       "\n",
       "    .dataframe thead th {\n",
       "        text-align: right;\n",
       "    }\n",
       "</style>\n",
       "<table border=\"1\" class=\"dataframe\">\n",
       "  <thead>\n",
       "    <tr style=\"text-align: right;\">\n",
       "      <th>Hospital tier</th>\n",
       "      <th>1</th>\n",
       "      <th>2</th>\n",
       "      <th>3</th>\n",
       "    </tr>\n",
       "    <tr>\n",
       "      <th>City tier</th>\n",
       "      <th></th>\n",
       "      <th></th>\n",
       "      <th></th>\n",
       "    </tr>\n",
       "  </thead>\n",
       "  <tbody>\n",
       "    <tr>\n",
       "      <th>1</th>\n",
       "      <td>85</td>\n",
       "      <td>403</td>\n",
       "      <td>241</td>\n",
       "    </tr>\n",
       "    <tr>\n",
       "      <th>2</th>\n",
       "      <td>106</td>\n",
       "      <td>479</td>\n",
       "      <td>222</td>\n",
       "    </tr>\n",
       "    <tr>\n",
       "      <th>3</th>\n",
       "      <td>109</td>\n",
       "      <td>452</td>\n",
       "      <td>228</td>\n",
       "    </tr>\n",
       "  </tbody>\n",
       "</table>\n",
       "</div>"
      ],
      "text/plain": [
       "Hospital tier    1    2    3\n",
       "City tier                   \n",
       "1               85  403  241\n",
       "2              106  479  222\n",
       "3              109  452  228"
      ]
     },
     "execution_count": 358,
     "metadata": {},
     "output_type": "execute_result"
    }
   ],
   "source": [
    "frequency_table=pd.crosstab(merged_df['City tier'],merged_df['Hospital tier'])\n",
    "frequency_table"
   ]
  },
  {
   "cell_type": "code",
   "execution_count": 359,
   "id": "f45e9ab9",
   "metadata": {},
   "outputs": [
    {
     "data": {
      "image/png": "[encoded data removed]",
      "text/plain": [
       "<Figure size 800x400 with 1 Axes>"
      ]
     },
     "metadata": {},
     "output_type": "display_data"
    }
   ],
   "source": [
    "ax=frequency_table.plot(kind='bar',stacked=True,colormap='viridis',figsize=(8,4))\n",
    "plt.xlabel('city')\n",
    "plt.ylabel('count')\n",
    "plt.title('count of people in different tiers of cities and hospitals')\n",
    "plt.legend(title='hospital tier');"
   ]
  },
  {
   "cell_type": "markdown",
   "id": "bccb009e",
   "metadata": {},
   "source": [
    "#### ** In city 2 their are more people and In city 1 their are less people"
   ]
  },
  {
   "cell_type": "markdown",
   "id": "a1c9c9a7",
   "metadata": {},
   "source": [
    "## --Test the following null hypotheses for given conditions"
   ]
  },
  {
   "cell_type": "markdown",
   "id": "3e39385e",
   "metadata": {},
   "source": [
    "## a. The average hospitalization costs for the three types of hospitals are not significantly different"
   ]
  },
  {
   "cell_type": "code",
   "execution_count": 360,
   "id": "4d8ccc05",
   "metadata": {},
   "outputs": [
    {
     "data": {
      "text/html": [
       "<div>\n",
       "<style scoped>\n",
       "    .dataframe tbody tr th:only-of-type {\n",
       "        vertical-align: middle;\n",
       "    }\n",
       "\n",
       "    .dataframe tbody tr th {\n",
       "        vertical-align: top;\n",
       "    }\n",
       "\n",
       "    .dataframe thead th {\n",
       "        text-align: right;\n",
       "    }\n",
       "</style>\n",
       "<table border=\"1\" class=\"dataframe\">\n",
       "  <thead>\n",
       "    <tr style=\"text-align: right;\">\n",
       "      <th></th>\n",
       "      <th>charges</th>\n",
       "    </tr>\n",
       "    <tr>\n",
       "      <th>Hospital tier</th>\n",
       "      <th></th>\n",
       "    </tr>\n",
       "  </thead>\n",
       "  <tbody>\n",
       "    <tr>\n",
       "      <th>1</th>\n",
       "      <td>32097.435</td>\n",
       "    </tr>\n",
       "    <tr>\n",
       "      <th>2</th>\n",
       "      <td>7168.760</td>\n",
       "    </tr>\n",
       "    <tr>\n",
       "      <th>3</th>\n",
       "      <td>10676.830</td>\n",
       "    </tr>\n",
       "  </tbody>\n",
       "</table>\n",
       "</div>"
      ],
      "text/plain": [
       "                 charges\n",
       "Hospital tier           \n",
       "1              32097.435\n",
       "2               7168.760\n",
       "3              10676.830"
      ]
     },
     "execution_count": 360,
     "metadata": {},
     "output_type": "execute_result"
    }
   ],
   "source": [
    "merged_df.groupby('Hospital tier')[['charges']].median()"
   ]
  },
  {
   "cell_type": "markdown",
   "id": "f2f93278",
   "metadata": {},
   "source": [
    "#### **Above, we did group by to test null hypothesis for the columns 'Hospital tier' along with 'charges' .  In statement given that The average hospitalization costs for the three types of hospitals are significantly not different but we proved that The average hospitalization costs for the three types of cities are significantly different , So null hypothesis(H0) is rejected and Alternative hypothesis(H1) is accepted."
   ]
  },
  {
   "cell_type": "markdown",
   "id": "0cf98995",
   "metadata": {},
   "source": [
    "## b. The average hospitalization costs for the three types of cities are not significantly different"
   ]
  },
  {
   "cell_type": "code",
   "execution_count": 361,
   "id": "91f2e11a",
   "metadata": {},
   "outputs": [
    {
     "data": {
      "text/html": [
       "<div>\n",
       "<style scoped>\n",
       "    .dataframe tbody tr th:only-of-type {\n",
       "        vertical-align: middle;\n",
       "    }\n",
       "\n",
       "    .dataframe tbody tr th {\n",
       "        vertical-align: top;\n",
       "    }\n",
       "\n",
       "    .dataframe thead th {\n",
       "        text-align: right;\n",
       "    }\n",
       "</style>\n",
       "<table border=\"1\" class=\"dataframe\">\n",
       "  <thead>\n",
       "    <tr style=\"text-align: right;\">\n",
       "      <th></th>\n",
       "      <th>charges</th>\n",
       "    </tr>\n",
       "    <tr>\n",
       "      <th>City tier</th>\n",
       "      <th></th>\n",
       "    </tr>\n",
       "  </thead>\n",
       "  <tbody>\n",
       "    <tr>\n",
       "      <th>1</th>\n",
       "      <td>10027.15</td>\n",
       "    </tr>\n",
       "    <tr>\n",
       "      <th>2</th>\n",
       "      <td>8968.33</td>\n",
       "    </tr>\n",
       "    <tr>\n",
       "      <th>3</th>\n",
       "      <td>9880.07</td>\n",
       "    </tr>\n",
       "  </tbody>\n",
       "</table>\n",
       "</div>"
      ],
      "text/plain": [
       "            charges\n",
       "City tier          \n",
       "1          10027.15\n",
       "2           8968.33\n",
       "3           9880.07"
      ]
     },
     "execution_count": 361,
     "metadata": {},
     "output_type": "execute_result"
    }
   ],
   "source": [
    "merged_df.groupby('City tier')[['charges']].median()"
   ]
  },
  {
   "cell_type": "markdown",
   "id": "58bcb4fb",
   "metadata": {},
   "source": [
    "#### **Above, we did group by to test null hypothesis for the columns 'City tier' along with 'charges' columns.  In statement given that The average hospitalization costs for the three types of cities are significantly not different as given like that The average hospitalization costs for the three types of cities are significantly not different, So  null hypothesis(H0) is accepted and Alternative hypothesis(H1) is rejected."
   ]
  },
  {
   "cell_type": "markdown",
   "id": "b0ddc2e5",
   "metadata": {},
   "source": [
    "## c. The average hospitalization cost for smokers is not significantly different from the average cost for nonsmokers"
   ]
  },
  {
   "cell_type": "code",
   "execution_count": 362,
   "id": "45a9b6bf",
   "metadata": {},
   "outputs": [
    {
     "data": {
      "text/html": [
       "<div>\n",
       "<style scoped>\n",
       "    .dataframe tbody tr th:only-of-type {\n",
       "        vertical-align: middle;\n",
       "    }\n",
       "\n",
       "    .dataframe tbody tr th {\n",
       "        vertical-align: top;\n",
       "    }\n",
       "\n",
       "    .dataframe thead th {\n",
       "        text-align: right;\n",
       "    }\n",
       "</style>\n",
       "<table border=\"1\" class=\"dataframe\">\n",
       "  <thead>\n",
       "    <tr style=\"text-align: right;\">\n",
       "      <th></th>\n",
       "      <th>charges</th>\n",
       "    </tr>\n",
       "    <tr>\n",
       "      <th>smoker</th>\n",
       "      <th></th>\n",
       "    </tr>\n",
       "  </thead>\n",
       "  <tbody>\n",
       "    <tr>\n",
       "      <th>No</th>\n",
       "      <td>7537.160</td>\n",
       "    </tr>\n",
       "    <tr>\n",
       "      <th>yes</th>\n",
       "      <td>34125.475</td>\n",
       "    </tr>\n",
       "  </tbody>\n",
       "</table>\n",
       "</div>"
      ],
      "text/plain": [
       "          charges\n",
       "smoker           \n",
       "No       7537.160\n",
       "yes     34125.475"
      ]
     },
     "execution_count": 362,
     "metadata": {},
     "output_type": "execute_result"
    }
   ],
   "source": [
    "merged_df.groupby('smoker')[['charges']].median()"
   ]
  },
  {
   "cell_type": "markdown",
   "id": "b97a8c2b",
   "metadata": {},
   "source": [
    "#### **Above, we did group by to test null hypothesis for the columns 'smoker_yes' along with 'charges' columns.  In statement given that The average hospitalization costs for smokers are significantly not different from the average cost for nonsmokers but we proved that The average hospitalization costs for thesmokers are significantly different from the average cost for nonsmokers, So  null hypothesis(H0) is rejected and Alternative hypothesis(H1) is accepted."
   ]
  },
  {
   "cell_type": "markdown",
   "id": "203ba091",
   "metadata": {},
   "source": [
    "## d. Smoking and heart issues are independent"
   ]
  },
  {
   "cell_type": "code",
   "execution_count": 363,
   "id": "34513a8d",
   "metadata": {},
   "outputs": [
    {
     "data": {
      "text/plain": [
       "smoker  Heart Issues\n",
       "No      No              1108\n",
       "        yes              731\n",
       "yes     No               297\n",
       "        yes              189\n",
       "Name: Heart Issues, dtype: int64"
      ]
     },
     "execution_count": 363,
     "metadata": {},
     "output_type": "execute_result"
    }
   ],
   "source": [
    "merged_df.groupby('smoker')['Heart Issues'].value_counts()"
   ]
  },
  {
   "cell_type": "markdown",
   "id": "57414c46",
   "metadata": {},
   "source": [
    "#### ** given that Smoking and heart issues are independent but we proved Smoking and heart issues are dependent So null hypothesis(H0) is rejected and Alternative hypothesis(H1) is accepted."
   ]
  },
  {
   "cell_type": "markdown",
   "id": "2d85c8f7",
   "metadata": {},
   "source": [
    "## --Examine the correlation between predictors to identify highly correlated predictors. Use a heatmap to visualize this."
   ]
  },
  {
   "cell_type": "code",
   "execution_count": 364,
   "id": "ab883833",
   "metadata": {},
   "outputs": [
    {
     "data": {
      "image/png": "[encoded data removed]",
      "text/plain": [
       "<Figure size 640x480 with 2 Axes>"
      ]
     },
     "metadata": {},
     "output_type": "display_data"
    }
   ],
   "source": [
    "sns.heatmap(merged_df.corr());"
   ]
  },
  {
   "cell_type": "markdown",
   "id": "3cd86239",
   "metadata": {},
   "source": [
    "#### **Correlation is high between charges and age, charges and bmi, Diabetic and age."
   ]
  },
  {
   "cell_type": "code",
   "execution_count": 365,
   "id": "8c730af0",
   "metadata": {},
   "outputs": [
    {
     "data": {
      "text/html": [
       "<div>\n",
       "<style scoped>\n",
       "    .dataframe tbody tr th:only-of-type {\n",
       "        vertical-align: middle;\n",
       "    }\n",
       "\n",
       "    .dataframe tbody tr th {\n",
       "        vertical-align: top;\n",
       "    }\n",
       "\n",
       "    .dataframe thead th {\n",
       "        text-align: right;\n",
       "    }\n",
       "</style>\n",
       "<table border=\"1\" class=\"dataframe\">\n",
       "  <thead>\n",
       "    <tr style=\"text-align: right;\">\n",
       "      <th></th>\n",
       "      <th>Customer ID</th>\n",
       "      <th>children</th>\n",
       "      <th>charges</th>\n",
       "      <th>Hospital tier</th>\n",
       "      <th>City tier</th>\n",
       "      <th>State ID</th>\n",
       "      <th>BMI</th>\n",
       "      <th>Diabetic</th>\n",
       "      <th>Heart Issues</th>\n",
       "      <th>Any Transplants</th>\n",
       "      <th>Cancer history</th>\n",
       "      <th>NumberOfMajorSurgeries</th>\n",
       "      <th>smoker</th>\n",
       "      <th>name</th>\n",
       "      <th>Year</th>\n",
       "      <th>Month</th>\n",
       "      <th>Date</th>\n",
       "      <th>Date_of_Birth</th>\n",
       "      <th>age</th>\n",
       "      <th>gender</th>\n",
       "    </tr>\n",
       "  </thead>\n",
       "  <tbody>\n",
       "    <tr>\n",
       "      <th>0</th>\n",
       "      <td>Id2335</td>\n",
       "      <td>0</td>\n",
       "      <td>563.84</td>\n",
       "      <td>2</td>\n",
       "      <td>3</td>\n",
       "      <td>2</td>\n",
       "      <td>17.58</td>\n",
       "      <td>0</td>\n",
       "      <td>No</td>\n",
       "      <td>No</td>\n",
       "      <td>No</td>\n",
       "      <td>1</td>\n",
       "      <td>No</td>\n",
       "      <td>German, Mr.  Aaron K</td>\n",
       "      <td>1992</td>\n",
       "      <td>7</td>\n",
       "      <td>9</td>\n",
       "      <td>1992-07-09</td>\n",
       "      <td>32</td>\n",
       "      <td>male</td>\n",
       "    </tr>\n",
       "    <tr>\n",
       "      <th>1</th>\n",
       "      <td>Id2334</td>\n",
       "      <td>0</td>\n",
       "      <td>570.62</td>\n",
       "      <td>2</td>\n",
       "      <td>1</td>\n",
       "      <td>2</td>\n",
       "      <td>17.60</td>\n",
       "      <td>0</td>\n",
       "      <td>No</td>\n",
       "      <td>No</td>\n",
       "      <td>No</td>\n",
       "      <td>1</td>\n",
       "      <td>No</td>\n",
       "      <td>Rosendahl, Mr.  Evan P</td>\n",
       "      <td>1992</td>\n",
       "      <td>11</td>\n",
       "      <td>30</td>\n",
       "      <td>1992-11-30</td>\n",
       "      <td>31</td>\n",
       "      <td>male</td>\n",
       "    </tr>\n",
       "  </tbody>\n",
       "</table>\n",
       "</div>"
      ],
      "text/plain": [
       "  Customer ID  children  charges  Hospital tier  City tier  State ID    BMI  \\\n",
       "0      Id2335         0   563.84              2          3         2  17.58   \n",
       "1      Id2334         0   570.62              2          1         2  17.60   \n",
       "\n",
       "   Diabetic Heart Issues Any Transplants Cancer history  \\\n",
       "0         0           No              No             No   \n",
       "1         0           No              No             No   \n",
       "\n",
       "   NumberOfMajorSurgeries smoker                    name  Year  Month  Date  \\\n",
       "0                       1     No    German, Mr.  Aaron K  1992      7     9   \n",
       "1                       1     No  Rosendahl, Mr.  Evan P  1992     11    30   \n",
       "\n",
       "  Date_of_Birth  age gender  \n",
       "0    1992-07-09   32   male  \n",
       "1    1992-11-30   31   male  "
      ]
     },
     "execution_count": 365,
     "metadata": {},
     "output_type": "execute_result"
    }
   ],
   "source": [
    "merged_df.head(2)"
   ]
  },
  {
   "cell_type": "markdown",
   "id": "699df55b",
   "metadata": {},
   "source": [
    "#### **Deleting unwanted columns"
   ]
  },
  {
   "cell_type": "code",
   "execution_count": 366,
   "id": "c817ddbf",
   "metadata": {},
   "outputs": [],
   "source": [
    "merged_df=merged_df.drop(columns=['Customer ID','name','Year','Month','Date','Date_of_Birth'])"
   ]
  },
  {
   "cell_type": "markdown",
   "id": "9e1ee93e",
   "metadata": {},
   "source": [
    "## -- Use the necessary transformation methods to deal with the nominal and ordinal categorical variables in the dataset "
   ]
  },
  {
   "cell_type": "code",
   "execution_count": 367,
   "id": "69ad5d3f",
   "metadata": {},
   "outputs": [],
   "source": [
    "merged_df=pd.get_dummies(merged_df,columns=['Heart Issues','Any Transplants','Cancer history','smoker','gender'],drop_first=True)"
   ]
  },
  {
   "cell_type": "code",
   "execution_count": 370,
   "id": "650b3c05",
   "metadata": {},
   "outputs": [
    {
     "data": {
      "text/html": [
       "<div>\n",
       "<style scoped>\n",
       "    .dataframe tbody tr th:only-of-type {\n",
       "        vertical-align: middle;\n",
       "    }\n",
       "\n",
       "    .dataframe tbody tr th {\n",
       "        vertical-align: top;\n",
       "    }\n",
       "\n",
       "    .dataframe thead th {\n",
       "        text-align: right;\n",
       "    }\n",
       "</style>\n",
       "<table border=\"1\" class=\"dataframe\">\n",
       "  <thead>\n",
       "    <tr style=\"text-align: right;\">\n",
       "      <th></th>\n",
       "      <th>children</th>\n",
       "      <th>charges</th>\n",
       "      <th>Hospital tier</th>\n",
       "      <th>City tier</th>\n",
       "      <th>State ID</th>\n",
       "      <th>BMI</th>\n",
       "      <th>Diabetic</th>\n",
       "      <th>NumberOfMajorSurgeries</th>\n",
       "      <th>age</th>\n",
       "      <th>Heart Issues_yes</th>\n",
       "      <th>Any Transplants_yes</th>\n",
       "      <th>Cancer history_Yes</th>\n",
       "      <th>smoker_yes</th>\n",
       "      <th>gender_male</th>\n",
       "    </tr>\n",
       "  </thead>\n",
       "  <tbody>\n",
       "    <tr>\n",
       "      <th>0</th>\n",
       "      <td>0</td>\n",
       "      <td>563.84</td>\n",
       "      <td>2</td>\n",
       "      <td>3</td>\n",
       "      <td>2</td>\n",
       "      <td>17.58</td>\n",
       "      <td>0</td>\n",
       "      <td>1</td>\n",
       "      <td>32</td>\n",
       "      <td>0</td>\n",
       "      <td>0</td>\n",
       "      <td>0</td>\n",
       "      <td>0</td>\n",
       "      <td>1</td>\n",
       "    </tr>\n",
       "    <tr>\n",
       "      <th>1</th>\n",
       "      <td>0</td>\n",
       "      <td>570.62</td>\n",
       "      <td>2</td>\n",
       "      <td>1</td>\n",
       "      <td>2</td>\n",
       "      <td>17.60</td>\n",
       "      <td>0</td>\n",
       "      <td>1</td>\n",
       "      <td>31</td>\n",
       "      <td>0</td>\n",
       "      <td>0</td>\n",
       "      <td>0</td>\n",
       "      <td>0</td>\n",
       "      <td>1</td>\n",
       "    </tr>\n",
       "    <tr>\n",
       "      <th>2</th>\n",
       "      <td>0</td>\n",
       "      <td>600.00</td>\n",
       "      <td>2</td>\n",
       "      <td>1</td>\n",
       "      <td>2</td>\n",
       "      <td>16.47</td>\n",
       "      <td>0</td>\n",
       "      <td>1</td>\n",
       "      <td>31</td>\n",
       "      <td>0</td>\n",
       "      <td>0</td>\n",
       "      <td>1</td>\n",
       "      <td>0</td>\n",
       "      <td>0</td>\n",
       "    </tr>\n",
       "    <tr>\n",
       "      <th>3</th>\n",
       "      <td>0</td>\n",
       "      <td>604.54</td>\n",
       "      <td>3</td>\n",
       "      <td>3</td>\n",
       "      <td>2</td>\n",
       "      <td>17.70</td>\n",
       "      <td>0</td>\n",
       "      <td>1</td>\n",
       "      <td>31</td>\n",
       "      <td>0</td>\n",
       "      <td>0</td>\n",
       "      <td>0</td>\n",
       "      <td>0</td>\n",
       "      <td>1</td>\n",
       "    </tr>\n",
       "    <tr>\n",
       "      <th>4</th>\n",
       "      <td>0</td>\n",
       "      <td>637.26</td>\n",
       "      <td>3</td>\n",
       "      <td>3</td>\n",
       "      <td>2</td>\n",
       "      <td>22.34</td>\n",
       "      <td>0</td>\n",
       "      <td>1</td>\n",
       "      <td>26</td>\n",
       "      <td>0</td>\n",
       "      <td>0</td>\n",
       "      <td>0</td>\n",
       "      <td>0</td>\n",
       "      <td>1</td>\n",
       "    </tr>\n",
       "  </tbody>\n",
       "</table>\n",
       "</div>"
      ],
      "text/plain": [
       "   children  charges  Hospital tier  City tier  State ID    BMI  Diabetic  \\\n",
       "0         0   563.84              2          3         2  17.58         0   \n",
       "1         0   570.62              2          1         2  17.60         0   \n",
       "2         0   600.00              2          1         2  16.47         0   \n",
       "3         0   604.54              3          3         2  17.70         0   \n",
       "4         0   637.26              3          3         2  22.34         0   \n",
       "\n",
       "   NumberOfMajorSurgeries  age  Heart Issues_yes  Any Transplants_yes  \\\n",
       "0                       1   32                 0                    0   \n",
       "1                       1   31                 0                    0   \n",
       "2                       1   31                 0                    0   \n",
       "3                       1   31                 0                    0   \n",
       "4                       1   26                 0                    0   \n",
       "\n",
       "   Cancer history_Yes  smoker_yes  gender_male  \n",
       "0                   0           0            1  \n",
       "1                   0           0            1  \n",
       "2                   1           0            0  \n",
       "3                   0           0            1  \n",
       "4                   0           0            1  "
      ]
     },
     "execution_count": 370,
     "metadata": {},
     "output_type": "execute_result"
    }
   ],
   "source": [
    "merged_df.head()"
   ]
  },
  {
   "cell_type": "code",
   "execution_count": 371,
   "id": "840bbb7f",
   "metadata": {},
   "outputs": [
    {
     "data": {
      "text/plain": [
       "children                  0\n",
       "charges                   0\n",
       "Hospital tier             0\n",
       "City tier                 0\n",
       "State ID                  0\n",
       "BMI                       0\n",
       "Diabetic                  0\n",
       "NumberOfMajorSurgeries    0\n",
       "age                       0\n",
       "Heart Issues_yes          0\n",
       "Any Transplants_yes       0\n",
       "Cancer history_Yes        0\n",
       "smoker_yes                0\n",
       "gender_male               0\n",
       "dtype: int64"
      ]
     },
     "execution_count": 371,
     "metadata": {},
     "output_type": "execute_result"
    }
   ],
   "source": [
    "merged_df.isnull().sum()"
   ]
  },
  {
   "cell_type": "markdown",
   "id": "9df9e410",
   "metadata": {},
   "source": [
    "## --Develop and evaluate the final model using regression with a stochastic gradient descent optimizer. "
   ]
  },
  {
   "cell_type": "code",
   "execution_count": 396,
   "id": "d8ab9da8",
   "metadata": {},
   "outputs": [],
   "source": [
    "from sklearn.model_selection import KFold,cross_val_score\n",
    "from sklearn.preprocessing import StandardScaler\n",
    "from sklearn.ensemble import RandomForestRegressor\n",
    "from xgboost import XGBRegressor"
   ]
  },
  {
   "cell_type": "markdown",
   "id": "347b34a1",
   "metadata": {},
   "source": [
    "## --Use standardization "
   ]
  },
  {
   "cell_type": "markdown",
   "id": "3409ea98",
   "metadata": {},
   "source": [
    "#### **Using StandardScaler for the columns which contain values in much different compare with other elememts. so to bring values in a  similar range StandardScaler is being used."
   ]
  },
  {
   "cell_type": "code",
   "execution_count": 373,
   "id": "363a37ba",
   "metadata": {},
   "outputs": [],
   "source": [
    "cols_to_scale=['BMI','age','charges']"
   ]
  },
  {
   "cell_type": "code",
   "execution_count": 374,
   "id": "677d959e",
   "metadata": {},
   "outputs": [],
   "source": [
    "scaler=StandardScaler()"
   ]
  },
  {
   "cell_type": "code",
   "execution_count": 375,
   "id": "94695869",
   "metadata": {},
   "outputs": [],
   "source": [
    "merged_df[cols_to_scale]=scaler.fit_transform(merged_df[cols_to_scale])"
   ]
  },
  {
   "cell_type": "code",
   "execution_count": 376,
   "id": "12d6d28f",
   "metadata": {},
   "outputs": [
    {
     "data": {
      "text/html": [
       "<div>\n",
       "<style scoped>\n",
       "    .dataframe tbody tr th:only-of-type {\n",
       "        vertical-align: middle;\n",
       "    }\n",
       "\n",
       "    .dataframe tbody tr th {\n",
       "        vertical-align: top;\n",
       "    }\n",
       "\n",
       "    .dataframe thead th {\n",
       "        text-align: right;\n",
       "    }\n",
       "</style>\n",
       "<table border=\"1\" class=\"dataframe\">\n",
       "  <thead>\n",
       "    <tr style=\"text-align: right;\">\n",
       "      <th></th>\n",
       "      <th>children</th>\n",
       "      <th>charges</th>\n",
       "      <th>Hospital tier</th>\n",
       "      <th>City tier</th>\n",
       "      <th>State ID</th>\n",
       "      <th>BMI</th>\n",
       "      <th>Diabetic</th>\n",
       "      <th>NumberOfMajorSurgeries</th>\n",
       "      <th>age</th>\n",
       "      <th>Heart Issues_yes</th>\n",
       "      <th>Any Transplants_yes</th>\n",
       "      <th>Cancer history_Yes</th>\n",
       "      <th>smoker_yes</th>\n",
       "      <th>gender_male</th>\n",
       "    </tr>\n",
       "  </thead>\n",
       "  <tbody>\n",
       "    <tr>\n",
       "      <th>0</th>\n",
       "      <td>0</td>\n",
       "      <td>-1.092478</td>\n",
       "      <td>2</td>\n",
       "      <td>3</td>\n",
       "      <td>2</td>\n",
       "      <td>-1.534432</td>\n",
       "      <td>0</td>\n",
       "      <td>1</td>\n",
       "      <td>-0.640972</td>\n",
       "      <td>0</td>\n",
       "      <td>0</td>\n",
       "      <td>0</td>\n",
       "      <td>0</td>\n",
       "      <td>1</td>\n",
       "    </tr>\n",
       "    <tr>\n",
       "      <th>1</th>\n",
       "      <td>0</td>\n",
       "      <td>-1.091907</td>\n",
       "      <td>2</td>\n",
       "      <td>1</td>\n",
       "      <td>2</td>\n",
       "      <td>-1.532145</td>\n",
       "      <td>0</td>\n",
       "      <td>1</td>\n",
       "      <td>-0.715650</td>\n",
       "      <td>0</td>\n",
       "      <td>0</td>\n",
       "      <td>0</td>\n",
       "      <td>0</td>\n",
       "      <td>1</td>\n",
       "    </tr>\n",
       "    <tr>\n",
       "      <th>2</th>\n",
       "      <td>0</td>\n",
       "      <td>-1.089430</td>\n",
       "      <td>2</td>\n",
       "      <td>1</td>\n",
       "      <td>2</td>\n",
       "      <td>-1.661390</td>\n",
       "      <td>0</td>\n",
       "      <td>1</td>\n",
       "      <td>-0.715650</td>\n",
       "      <td>0</td>\n",
       "      <td>0</td>\n",
       "      <td>1</td>\n",
       "      <td>0</td>\n",
       "      <td>0</td>\n",
       "    </tr>\n",
       "    <tr>\n",
       "      <th>3</th>\n",
       "      <td>0</td>\n",
       "      <td>-1.089047</td>\n",
       "      <td>3</td>\n",
       "      <td>3</td>\n",
       "      <td>2</td>\n",
       "      <td>-1.520707</td>\n",
       "      <td>0</td>\n",
       "      <td>1</td>\n",
       "      <td>-0.715650</td>\n",
       "      <td>0</td>\n",
       "      <td>0</td>\n",
       "      <td>0</td>\n",
       "      <td>0</td>\n",
       "      <td>1</td>\n",
       "    </tr>\n",
       "    <tr>\n",
       "      <th>4</th>\n",
       "      <td>0</td>\n",
       "      <td>-1.086288</td>\n",
       "      <td>3</td>\n",
       "      <td>3</td>\n",
       "      <td>2</td>\n",
       "      <td>-0.990000</td>\n",
       "      <td>0</td>\n",
       "      <td>1</td>\n",
       "      <td>-1.089036</td>\n",
       "      <td>0</td>\n",
       "      <td>0</td>\n",
       "      <td>0</td>\n",
       "      <td>0</td>\n",
       "      <td>1</td>\n",
       "    </tr>\n",
       "  </tbody>\n",
       "</table>\n",
       "</div>"
      ],
      "text/plain": [
       "   children   charges  Hospital tier  City tier  State ID       BMI  Diabetic  \\\n",
       "0         0 -1.092478              2          3         2 -1.534432         0   \n",
       "1         0 -1.091907              2          1         2 -1.532145         0   \n",
       "2         0 -1.089430              2          1         2 -1.661390         0   \n",
       "3         0 -1.089047              3          3         2 -1.520707         0   \n",
       "4         0 -1.086288              3          3         2 -0.990000         0   \n",
       "\n",
       "   NumberOfMajorSurgeries       age  Heart Issues_yes  Any Transplants_yes  \\\n",
       "0                       1 -0.640972                 0                    0   \n",
       "1                       1 -0.715650                 0                    0   \n",
       "2                       1 -0.715650                 0                    0   \n",
       "3                       1 -0.715650                 0                    0   \n",
       "4                       1 -1.089036                 0                    0   \n",
       "\n",
       "   Cancer history_Yes  smoker_yes  gender_male  \n",
       "0                   0           0            1  \n",
       "1                   0           0            1  \n",
       "2                   1           0            0  \n",
       "3                   0           0            1  \n",
       "4                   0           0            1  "
      ]
     },
     "execution_count": 376,
     "metadata": {},
     "output_type": "execute_result"
    }
   ],
   "source": [
    "merged_df.head(5)"
   ]
  },
  {
   "cell_type": "markdown",
   "id": "c029bc99",
   "metadata": {},
   "source": [
    "#### **Now the values are in same range."
   ]
  },
  {
   "cell_type": "markdown",
   "id": "81372a33",
   "metadata": {},
   "source": [
    "#### **splitting data in x and y variables to train and test"
   ]
  },
  {
   "cell_type": "code",
   "execution_count": 397,
   "id": "834a24b2",
   "metadata": {},
   "outputs": [],
   "source": [
    "x=merged_df.drop(['charges'],axis=1)\n",
    "y=merged_df.charges"
   ]
  },
  {
   "cell_type": "markdown",
   "id": "fdd35926",
   "metadata": {},
   "source": [
    "## --Use random forest and extreme gradient boosting for cost prediction, share your cross validation results, and calculate variable importance scores"
   ]
  },
  {
   "cell_type": "markdown",
   "id": "7a6fd335",
   "metadata": {},
   "source": [
    "### random forest:"
   ]
  },
  {
   "cell_type": "code",
   "execution_count": 398,
   "id": "6225e9b5",
   "metadata": {},
   "outputs": [
    {
     "name": "stdout",
     "output_type": "stream",
     "text": [
      "Random Forest cross validation results:\n",
      "RMSE Scores: [-0.52627758 -0.37240999 -0.41634145 -0.6087366  -1.59116409]\n",
      "Average RMSE: 0.804515695612346\n"
     ]
    },
    {
     "data": {
      "text/html": [
       "<div>\n",
       "<style scoped>\n",
       "    .dataframe tbody tr th:only-of-type {\n",
       "        vertical-align: middle;\n",
       "    }\n",
       "\n",
       "    .dataframe tbody tr th {\n",
       "        vertical-align: top;\n",
       "    }\n",
       "\n",
       "    .dataframe thead th {\n",
       "        text-align: right;\n",
       "    }\n",
       "</style>\n",
       "<table border=\"1\" class=\"dataframe\">\n",
       "  <thead>\n",
       "    <tr style=\"text-align: right;\">\n",
       "      <th></th>\n",
       "      <th>Feature</th>\n",
       "      <th>Importance</th>\n",
       "    </tr>\n",
       "  </thead>\n",
       "  <tbody>\n",
       "    <tr>\n",
       "      <th>11</th>\n",
       "      <td>smoker_yes</td>\n",
       "      <td>0.769578</td>\n",
       "    </tr>\n",
       "    <tr>\n",
       "      <th>4</th>\n",
       "      <td>BMI</td>\n",
       "      <td>0.110594</td>\n",
       "    </tr>\n",
       "    <tr>\n",
       "      <th>7</th>\n",
       "      <td>age</td>\n",
       "      <td>0.086369</td>\n",
       "    </tr>\n",
       "    <tr>\n",
       "      <th>1</th>\n",
       "      <td>Hospital tier</td>\n",
       "      <td>0.014220</td>\n",
       "    </tr>\n",
       "    <tr>\n",
       "      <th>0</th>\n",
       "      <td>children</td>\n",
       "      <td>0.009694</td>\n",
       "    </tr>\n",
       "    <tr>\n",
       "      <th>3</th>\n",
       "      <td>State ID</td>\n",
       "      <td>0.009066</td>\n",
       "    </tr>\n",
       "    <tr>\n",
       "      <th>10</th>\n",
       "      <td>Cancer history_Yes</td>\n",
       "      <td>0.000152</td>\n",
       "    </tr>\n",
       "    <tr>\n",
       "      <th>2</th>\n",
       "      <td>City tier</td>\n",
       "      <td>0.000098</td>\n",
       "    </tr>\n",
       "    <tr>\n",
       "      <th>6</th>\n",
       "      <td>NumberOfMajorSurgeries</td>\n",
       "      <td>0.000068</td>\n",
       "    </tr>\n",
       "    <tr>\n",
       "      <th>8</th>\n",
       "      <td>Heart Issues_yes</td>\n",
       "      <td>0.000055</td>\n",
       "    </tr>\n",
       "    <tr>\n",
       "      <th>9</th>\n",
       "      <td>Any Transplants_yes</td>\n",
       "      <td>0.000045</td>\n",
       "    </tr>\n",
       "    <tr>\n",
       "      <th>5</th>\n",
       "      <td>Diabetic</td>\n",
       "      <td>0.000033</td>\n",
       "    </tr>\n",
       "    <tr>\n",
       "      <th>12</th>\n",
       "      <td>gender_male</td>\n",
       "      <td>0.000029</td>\n",
       "    </tr>\n",
       "  </tbody>\n",
       "</table>\n",
       "</div>"
      ],
      "text/plain": [
       "                   Feature  Importance\n",
       "11              smoker_yes    0.769578\n",
       "4                      BMI    0.110594\n",
       "7                      age    0.086369\n",
       "1            Hospital tier    0.014220\n",
       "0                 children    0.009694\n",
       "3                 State ID    0.009066\n",
       "10      Cancer history_Yes    0.000152\n",
       "2                City tier    0.000098\n",
       "6   NumberOfMajorSurgeries    0.000068\n",
       "8         Heart Issues_yes    0.000055\n",
       "9      Any Transplants_yes    0.000045\n",
       "5                 Diabetic    0.000033\n",
       "12             gender_male    0.000029"
      ]
     },
     "execution_count": 398,
     "metadata": {},
     "output_type": "execute_result"
    }
   ],
   "source": [
    "# random forest model\n",
    "rf_model=RandomForestRegressor(n_estimators=100,max_depth=5,random_state=42)\n",
    "\n",
    "# cross validation results for random forest\n",
    "scores=cross_val_score(rf_model,x,y,cv=5,scoring='neg_root_mean_squared_error')\n",
    "\n",
    "mean_rmse=np.sqrt(-scores)\n",
    "\n",
    "print('Random Forest cross validation results:')\n",
    "print('RMSE Scores:',scores)\n",
    "print('Average RMSE:',np.mean(mean_rmse))\n",
    "\n",
    "\n",
    "# fit random forest model on the entire dataset for variable impotance\n",
    "rf_model.fit(x,y)\n",
    "\n",
    "rf_feature_importance=rf_model.feature_importances_\n",
    "rf_importance_df=pd.DataFrame({'Feature':x.columns,'Importance':rf_feature_importance})\n",
    "rf_importance_df=rf_importance_df.sort_values(by='Importance',ascending=False)\n",
    "rf_importance_df"
   ]
  },
  {
   "cell_type": "markdown",
   "id": "3cecc48d",
   "metadata": {},
   "source": [
    "### extreme gradient boosting:"
   ]
  },
  {
   "cell_type": "code",
   "execution_count": 399,
   "id": "a407996f",
   "metadata": {},
   "outputs": [
    {
     "name": "stdout",
     "output_type": "stream",
     "text": [
      "xgboost cross validation results:\n",
      "RMSE Scores: [-0.93281775 -0.37481041 -0.47173591 -0.67959402 -1.57027087]\n",
      "Average RMSE: 0.8684704545515398\n"
     ]
    },
    {
     "data": {
      "text/html": [
       "<div>\n",
       "<style scoped>\n",
       "    .dataframe tbody tr th:only-of-type {\n",
       "        vertical-align: middle;\n",
       "    }\n",
       "\n",
       "    .dataframe tbody tr th {\n",
       "        vertical-align: top;\n",
       "    }\n",
       "\n",
       "    .dataframe thead th {\n",
       "        text-align: right;\n",
       "    }\n",
       "</style>\n",
       "<table border=\"1\" class=\"dataframe\">\n",
       "  <thead>\n",
       "    <tr style=\"text-align: right;\">\n",
       "      <th></th>\n",
       "      <th>Feature</th>\n",
       "      <th>Importance</th>\n",
       "    </tr>\n",
       "  </thead>\n",
       "  <tbody>\n",
       "    <tr>\n",
       "      <th>11</th>\n",
       "      <td>smoker_yes</td>\n",
       "      <td>0.917777</td>\n",
       "    </tr>\n",
       "    <tr>\n",
       "      <th>7</th>\n",
       "      <td>age</td>\n",
       "      <td>0.020136</td>\n",
       "    </tr>\n",
       "    <tr>\n",
       "      <th>4</th>\n",
       "      <td>BMI</td>\n",
       "      <td>0.017776</td>\n",
       "    </tr>\n",
       "    <tr>\n",
       "      <th>1</th>\n",
       "      <td>Hospital tier</td>\n",
       "      <td>0.011808</td>\n",
       "    </tr>\n",
       "    <tr>\n",
       "      <th>3</th>\n",
       "      <td>State ID</td>\n",
       "      <td>0.006616</td>\n",
       "    </tr>\n",
       "    <tr>\n",
       "      <th>0</th>\n",
       "      <td>children</td>\n",
       "      <td>0.006573</td>\n",
       "    </tr>\n",
       "    <tr>\n",
       "      <th>12</th>\n",
       "      <td>gender_male</td>\n",
       "      <td>0.005731</td>\n",
       "    </tr>\n",
       "    <tr>\n",
       "      <th>10</th>\n",
       "      <td>Cancer history_Yes</td>\n",
       "      <td>0.003387</td>\n",
       "    </tr>\n",
       "    <tr>\n",
       "      <th>8</th>\n",
       "      <td>Heart Issues_yes</td>\n",
       "      <td>0.002777</td>\n",
       "    </tr>\n",
       "    <tr>\n",
       "      <th>6</th>\n",
       "      <td>NumberOfMajorSurgeries</td>\n",
       "      <td>0.002118</td>\n",
       "    </tr>\n",
       "    <tr>\n",
       "      <th>2</th>\n",
       "      <td>City tier</td>\n",
       "      <td>0.001997</td>\n",
       "    </tr>\n",
       "    <tr>\n",
       "      <th>9</th>\n",
       "      <td>Any Transplants_yes</td>\n",
       "      <td>0.001736</td>\n",
       "    </tr>\n",
       "    <tr>\n",
       "      <th>5</th>\n",
       "      <td>Diabetic</td>\n",
       "      <td>0.001569</td>\n",
       "    </tr>\n",
       "  </tbody>\n",
       "</table>\n",
       "</div>"
      ],
      "text/plain": [
       "                   Feature  Importance\n",
       "11              smoker_yes    0.917777\n",
       "7                      age    0.020136\n",
       "4                      BMI    0.017776\n",
       "1            Hospital tier    0.011808\n",
       "3                 State ID    0.006616\n",
       "0                 children    0.006573\n",
       "12             gender_male    0.005731\n",
       "10      Cancer history_Yes    0.003387\n",
       "8         Heart Issues_yes    0.002777\n",
       "6   NumberOfMajorSurgeries    0.002118\n",
       "2                City tier    0.001997\n",
       "9      Any Transplants_yes    0.001736\n",
       "5                 Diabetic    0.001569"
      ]
     },
     "execution_count": 399,
     "metadata": {},
     "output_type": "execute_result"
    }
   ],
   "source": [
    "# random forest model\n",
    "xgb_model=XGBRegressor(n_estimators=100,max_depth=5,random_state=42)\n",
    "\n",
    "# cross validation results for random forest\n",
    "scores=cross_val_score(xgb_model,x,y,cv=5,scoring='neg_root_mean_squared_error')\n",
    "\n",
    "mean_rmse=np.sqrt(-scores)\n",
    "\n",
    "print('xgboost cross validation results:')\n",
    "print('RMSE Scores:',scores)\n",
    "print('Average RMSE:',np.mean(mean_rmse))\n",
    "\n",
    "\n",
    "# fit xgboost model on the entire dataset for variable impotance\n",
    "xgb_model.fit(x,y)\n",
    "\n",
    "xgb_feature_importance=xgb_model.feature_importances_\n",
    "xgb_importance_df=pd.DataFrame({'Feature':x.columns,'Importance':xgb_feature_importance})\n",
    "xgb_importance_df=xgb_importance_df.sort_values(by='Importance',ascending=False)\n",
    "xgb_importance_df"
   ]
  },
  {
   "cell_type": "markdown",
   "id": "d492420e",
   "metadata": {},
   "source": [
    "#### **Average RMSE of random forest model is 0.8041491006399605 and Average RMSE of xgboost model is 0.8645686797212473 So we got  Average RMSE of xgboost model  is greater than  Average RMSE of random forest model."
   ]
  },
  {
   "cell_type": "markdown",
   "id": "b52dd858",
   "metadata": {},
   "source": [
    "### ** Random forest model is predicting better than xgboost model and stochastic gradient descent optimizer.**"
   ]
  }
 ],
 "metadata": {
  "kernelspec": {
   "display_name": "Python 3 (ipykernel)",
   "language": "python",
   "name": "python3"
  },
  "language_info": {
   "codemirror_mode": {
    "name": "ipython",
    "version": 3
   },
   "file_extension": ".py",
   "mimetype": "text/x-python",
   "name": "python",
   "nbconvert_exporter": "python",
   "pygments_lexer": "ipython3",
   "version": "3.9.13"
  }
 },
 "nbformat": 4,
 "nbformat_minor": 5
}
